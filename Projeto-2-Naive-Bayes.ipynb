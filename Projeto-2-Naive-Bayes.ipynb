{
 "cells": [
  {
   "cell_type": "markdown",
   "metadata": {},
   "source": [
    "# Projeto 2 - Classificador Automático de Sentimento\n",
    "\n",
    "## Integrantes: Lucas Leal Vale, Matheus Augusto Soares, Rafael Almada\n",
    "\n",
    "Você foi contratado por uma empresa parar analisar como os clientes estão reagindo a um determinado produto no Twitter. A empresa deseja que você crie um programa que irá analisar as mensagens disponíveis e classificará como \"relevante\" ou \"irrelevante\". Com isso ela deseja que mensagens negativas, que denigrem o nome do produto, ou que mereçam destaque, disparem um foco de atenção da área de marketing.<br /><br />\n",
    "Como aluno de Ciência dos Dados, você lembrou do Teorema de Bayes, mais especificamente do Classificador Naive-Bayes, que é largamente utilizado em filtros anti-spam de e-mails. O classificador permite calcular qual a probabilidade de uma mensagem ser relevante dadas as palavras em seu conteúdo.<br /><br />\n",
    "Para realizar o MVP (*minimum viable product*) do projeto, você precisa implementar uma versão do classificador que \"aprende\" o que é relevante com uma base de treinamento e compara a performance dos resultados com uma base de testes.<br /><br />\n",
    "Após validado, o seu protótipo poderá também capturar e classificar automaticamente as mensagens da plataforma.\n",
    "\n",
    "## Informações do Projeto\n",
    "\n",
    "Prazo: 19/Set até às 23:59.<br />\n",
    "Grupo: 2 ou 3 pessoas - grupos com 3 pessoas terá uma rubrica diferenciada.<br /><br />\n",
    "Entregáveis via GitHub: \n",
    "* Arquivo notebook com o código do classificador, seguindo as orientações abaixo.\n",
    "* Arquivo Excel com as bases de treinamento e teste totalmente classificado.\n",
    "\n",
    "**NÃO gravar a key do professor no arquivo**\n",
    "\n",
    "\n",
    "### Entrega Intermediária: Check 1 - APS 2\n",
    "\n",
    "Até o dia 10/Set às 23:59, xlsx deve estar no Github com as seguintes evidências: \n",
    "\n",
    "  * Produto escolhido.\n",
    "  * Arquivo Excel contendo a base de treinamento e a base de testes já classificadas.\n",
    "\n",
    "Sugestão de leitura:<br />\n",
    "https://monkeylearn.com/blog/practical-explanation-naive-bayes-classifier/"
   ]
  },
  {
   "cell_type": "markdown",
   "metadata": {
    "collapsed": true
   },
   "source": [
    "___\n",
    "## Introdução\n",
    "\n",
    "Vivemos na era da informação, tudo pode ser usado para o bem ou para o mal, desde o que o indíviduo tá sentido, seja relacionado a uma empresa, produto ou até por alguma questão qualquer, o lugar por onde as pessoas passam, o que curtem em uma rede social, tudo pode ser usado para entender o comortamento social de um nicho específico da sociedade ou até traçar uma média geral para a nação. Com o avanço do conhecimento e do desenvolvimento do poderio da tecnologia, o ser humano percebeu que não precisa depender apenas de si, até por que ele mesmo é muito falho, mas podemos nos utilizar de máquinas não só para registrar, mas para pensar. Assim nasceu o conhecido 'Machine Learning', área da computação que visa programar um computador para aprender com o humano e por meio de probabilidades realizar o mesmo trabalho.\n",
    "\n",
    "Neste trabalho, utilizamos de uma técnica muito simples de Machine Learning, chamada \"Naive Bayes\" (traduzido literalmente para Bayes ingênuo). O nome faz uma homenagem a Thomas Bayes (1701 – 1761), matemático inglês que estudou como calcular a distribuição para o parâmetro de probabilidade de uma distribuição binomial e acabou por chegar na famosa equação de probabilidades, a equação de Bayes:\n",
    "\n",
    "### $$\\frac{P(A | B) = P(B | A)·P(A)}{P(B)}$$\n",
    "\n",
    "Contudo, nosso objetivo é analisar qual a reputação da empresa 'Riot Games', com base no seu público no twitter, para isso recolhemos um dataframe de 300 tweets de treinamento para que o algoritmo desenvolvido possa tomar como base e 700 tweets de teste para verificarmos o quão preciso ele é. A importância de um projeto como esse para uma empresa seria a informação estatística de como ela é vista pelo público em determinada rede social para se embasar em decisões futuras de investimentos, marketing, etc."
   ]
  },
  {
   "cell_type": "code",
   "execution_count": null,
   "metadata": {
    "collapsed": true
   },
   "outputs": [],
   "source": []
  },
  {
   "cell_type": "code",
   "execution_count": null,
   "metadata": {
    "collapsed": true
   },
   "outputs": [],
   "source": []
  },
  {
   "cell_type": "markdown",
   "metadata": {},
   "source": [
    "___\n",
    "\n",
    "## Parte I - Adquirindo a Base de Dados\n",
    "\n",
    "Acessar o notebook **Projeto-2-Planilha** para realizar a coleta dos dados. O grupo deve classificar os dados coletados manualmente."
   ]
  },
  {
   "cell_type": "code",
   "execution_count": 1,
   "metadata": {
    "collapsed": true
   },
   "outputs": [],
   "source": [
    "%matplotlib inline\n",
    "import pandas as pd\n",
    "import matplotlib.pyplot as plt\n",
    "import numpy as np\n",
    "from scipy import stats"
   ]
  },
  {
   "cell_type": "code",
   "execution_count": 2,
   "metadata": {
    "collapsed": true
   },
   "outputs": [],
   "source": [
    "df=pd.read_excel('tweets_riot.xlsx','Treinamento',sep=',')\n",
    "dfTeste=pd.read_excel('teste.xlsx', 'Treinamento',sep=',')"
   ]
  },
  {
   "cell_type": "code",
   "execution_count": 3,
   "metadata": {
    "collapsed": true
   },
   "outputs": [],
   "source": [
    "lista1=['  ','   ',':','(',')','`','[',']','.','/','\" ',\"'\"]\n",
    "lista2=[' ',' ',' ',' ',' ',' ',' ',' ',' ',' ',' ',' ']\n",
    "for i in range(len(lista1)):\n",
    "    df['Treinamento']=df.Treinamento.str.replace(lista1[i], lista2[i])\n",
    "df['Treinamento']=df.Treinamento.str.lower()"
   ]
  },
  {
   "cell_type": "code",
   "execution_count": 4,
   "metadata": {
    "collapsed": false
   },
   "outputs": [
    {
     "data": {
      "text/html": [
       "<div>\n",
       "<table border=\"1\" class=\"dataframe\">\n",
       "  <thead>\n",
       "    <tr style=\"text-align: right;\">\n",
       "      <th></th>\n",
       "      <th>Treinamento</th>\n",
       "      <th>Classificação</th>\n",
       "      <th>Legenda</th>\n",
       "    </tr>\n",
       "  </thead>\n",
       "  <tbody>\n",
       "    <tr>\n",
       "      <th>0</th>\n",
       "      <td>[n, é, pq, eu, tô, com, uma, crush, imensa, nã...</td>\n",
       "      <td>0</td>\n",
       "      <td>0 - IRRELEVANTE</td>\n",
       "    </tr>\n",
       "    <tr>\n",
       "      <th>1</th>\n",
       "      <td>[rt, @favstommo, ai, cansei, de, viver, mas, n...</td>\n",
       "      <td>1</td>\n",
       "      <td>1 - RUIM</td>\n",
       "    </tr>\n",
       "    <tr>\n",
       "      <th>2</th>\n",
       "      <td>[@carlosruaror, consegui,, riot, me, enviou, o...</td>\n",
       "      <td>2</td>\n",
       "      <td>2 - BOM</td>\n",
       "    </tr>\n",
       "    <tr>\n",
       "      <th>3</th>\n",
       "      <td>[riot, fala, assim, mesmo, rs, https, t, co, r...</td>\n",
       "      <td>2</td>\n",
       "      <td>NaN</td>\n",
       "    </tr>\n",
       "    <tr>\n",
       "      <th>4</th>\n",
       "      <td>[rt, @saradocinzas, aaaaaaaaaaaaa, vai, toma, ...</td>\n",
       "      <td>0</td>\n",
       "      <td>NaN</td>\n",
       "    </tr>\n",
       "  </tbody>\n",
       "</table>\n",
       "</div>"
      ],
      "text/plain": [
       "                                         Treinamento  Classificação  \\\n",
       "0  [n, é, pq, eu, tô, com, uma, crush, imensa, nã...              0   \n",
       "1  [rt, @favstommo, ai, cansei, de, viver, mas, n...              1   \n",
       "2  [@carlosruaror, consegui,, riot, me, enviou, o...              2   \n",
       "3  [riot, fala, assim, mesmo, rs, https, t, co, r...              2   \n",
       "4  [rt, @saradocinzas, aaaaaaaaaaaaa, vai, toma, ...              0   \n",
       "\n",
       "           Legenda  \n",
       "0  0 - IRRELEVANTE  \n",
       "1         1 - RUIM  \n",
       "2          2 - BOM  \n",
       "3              NaN  \n",
       "4              NaN  "
      ]
     },
     "execution_count": 4,
     "metadata": {},
     "output_type": "execute_result"
    }
   ],
   "source": [
    "df['Treinamento']=df['Treinamento'].str.split()\n",
    "df.head()"
   ]
  },
  {
   "cell_type": "code",
   "execution_count": null,
   "metadata": {
    "collapsed": true
   },
   "outputs": [],
   "source": []
  },
  {
   "cell_type": "markdown",
   "metadata": {},
   "source": [
    "___\n",
    "## Parte II - Montando o Classificador Naive-Bayes\n",
    "\n",
    "Com a base de treinamento montada, comece a desenvolver o classificador. Não se esqueça de implementar o Laplace Smoothing (https://en.wikipedia.org/wiki/Laplace_smoothing).\n",
    "\n",
    "Opcionalmente: \n",
    "* Limpar as mensagens removendo os caracteres: enter, :, \", ', (, ), etc. Não remover emojis.<br />\n",
    "* Corrigir separação de espaços entre palavras e/ou emojis.\n",
    "* Propor outras limpezas/transformações que não afetem a qualidade da informação.\n",
    "\n",
    "Escreva o seu código abaixo:"
   ]
  },
  {
   "cell_type": "code",
   "execution_count": 5,
   "metadata": {
    "collapsed": false
   },
   "outputs": [],
   "source": [
    "dfLen=len(df)\n",
    "\n",
    "dfBom=df[df['Classificação']==3]\n",
    "dfBomLen=len(dfBom)\n",
    "\n",
    "dfNeutro=df[df['Classificação']==2]\n",
    "dfNeutroLen=len(dfNeutro)\n",
    "\n",
    "dfRuim=df[df['Classificação']==1]\n",
    "dfRuimLen=len(dfRuim)\n",
    "\n",
    "dfIrre=df[df['Classificação']==0]\n",
    "dfIrreLen=len(dfIrre)\n",
    "#tw=dfBom[\"Treinamento\"][2]\n",
    "\n"
   ]
  },
  {
   "cell_type": "code",
   "execution_count": 6,
   "metadata": {
    "collapsed": true
   },
   "outputs": [],
   "source": [
    "# # Probabilidades base\n",
    "# ProbBom=len(dfBom)/(dfLen)\n",
    "# ProbRuim=len(dfRuim)/(dfLen)\n",
    "# ProbIrre=len(dfIrre)/(dfLen)\n",
    "# print('A probablidade de ser Bom  é:{0}'.format(ProbBom))\n",
    "# print('A probablidade de ser Ruim é:{0}'.format(ProbRuim))\n",
    "# print('A probablidade de ser Irre é:{0}'.format(ProbIrre))\n"
   ]
  },
  {
   "cell_type": "code",
   "execution_count": 7,
   "metadata": {
    "collapsed": false
   },
   "outputs": [],
   "source": [
    "# Contagem de palavras dado sua categoria\n",
    "#Bom\n",
    "dfBomProb=dfBom[\"Treinamento\"].sum()\n",
    "dfBomProb=pd.Series(dfBomProb)\n",
    "dfBomProb=dfBomProb.value_counts()\n",
    "\n",
    "#Ruim\n",
    "dfRuimProb=dfRuim[\"Treinamento\"].sum()\n",
    "dfRuimProb=pd.Series(dfRuimProb)\n",
    "dfRuimProb=dfRuimProb.value_counts()\n",
    "\n",
    "#Irrelevante\n",
    "dfIrreProb=dfIrre[\"Treinamento\"].sum()\n",
    "dfIrreProb=pd.Series(dfIrreProb)\n",
    "dfIrreProb=dfIrreProb.value_counts()\n",
    "\n",
    "#Neutro\n",
    "dfNeutroProb=dfNeutro[\"Treinamento\"].sum()\n",
    "dfNeutroProb=pd.Series(dfNeutroProb)\n",
    "dfNeutroProb=dfNeutroProb.value_counts()\n",
    "\n",
    "#Total\n",
    "dfTotal=df.Treinamento.sum()\n",
    "dfTotal=pd.Series(dfTotal)\n",
    "dfTotal=dfTotal.value_counts()"
   ]
  },
  {
   "cell_type": "code",
   "execution_count": 8,
   "metadata": {
    "collapsed": false
   },
   "outputs": [],
   "source": [
    "#Número total de palavras no dataframe\n",
    "dfPalavras=df.Treinamento.sum()\n",
    "dfPalavras=pd.Series(dfPalavras)\n",
    "dfPalavras=len(dfPalavras)\n",
    "\n",
    "#Check de palavras\n",
    "check=df.Treinamento.sum()\n",
    "check=pd.Series(check)"
   ]
  },
  {
   "cell_type": "code",
   "execution_count": 9,
   "metadata": {
    "collapsed": false
   },
   "outputs": [],
   "source": [
    "#Números totais de palavras em cada categoria, mas agora em variáveis\n",
    "#Bom\n",
    "BoasPalavras=dfBom[\"Treinamento\"].sum()\n",
    "BoasPalavras=pd.Series(BoasPalavras)\n",
    "BoasPalavras=len(BoasPalavras)\n",
    "\n",
    "#Ruim\n",
    "RuimPalavras=dfRuim[\"Treinamento\"].sum()\n",
    "RuimPalavras=pd.Series(RuimPalavras)\n",
    "RuimPalavras=len(RuimPalavras)\n",
    "\n",
    "#Irrelevante\n",
    "IrrePalavras=dfIrre[\"Treinamento\"].sum()\n",
    "IrrePalavras=pd.Series(IrrePalavras)\n",
    "IrrePalavras=len(IrrePalavras)\n",
    "\n",
    "#Neutro\n",
    "NeutroPalavras=dfNeutro[\"Treinamento\"].sum()\n",
    "NeutroPalavras=pd.Series(NeutroPalavras)\n",
    "NeutroPalavras=len(NeutroPalavras)\n"
   ]
  },
  {
   "cell_type": "code",
   "execution_count": 10,
   "metadata": {
    "collapsed": false
   },
   "outputs": [
    {
     "name": "stdout",
     "output_type": "stream",
     "text": [
      "A probablidade de ser Bom  é: 0.018 %\n",
      "A probablidade de ser Ruim é: 39.544 %\n",
      "A probablidade de ser Irrelevante é: 31.758 %\n",
      "A probablidade de ser Neutro é: 28.698 %\n"
     ]
    }
   ],
   "source": [
    "# Probabilidades base\n",
    "ProbBom=BoasPalavras/(dfPalavras)\n",
    "ProbRuim=RuimPalavras/(dfPalavras)\n",
    "ProbIrre=IrrePalavras/(dfPalavras)\n",
    "ProbNeutro=NeutroPalavras/(dfPalavras)\n",
    "print('A probablidade de ser Bom  é: {0:.3f} %'.format(ProbBom*100))\n",
    "print('A probablidade de ser Ruim é: {0:.3f} %'.format(ProbRuim*100))\n",
    "print('A probablidade de ser Irrelevante é: {0:.3f} %'.format(ProbIrre*100))\n",
    "print('A probablidade de ser Neutro é: {0:.3f} %'.format(ProbNeutro*100))"
   ]
  },
  {
   "cell_type": "code",
   "execution_count": 11,
   "metadata": {
    "collapsed": false
   },
   "outputs": [],
   "source": [
    "#P(palavra|Bom)\n",
    "#Prob palavra/bom\n",
    "#dfBomProb2=(dfBomProb+1)/(len(dfBomProb)+len(dfTotal))\n",
    "#Prob palavra/ruim\n",
    "#dfRuimProb2=(dfRuimProb+1)/(len(dfRuimProb)+len(dfTotal))\n",
    "#Prob palavra/irrelevante\n",
    "#dfIrreProb2=(dfIrreProb+1)/(len(dfIrreProb)+len(dfTotal))\n",
    "#dfBomProb2.head(5)"
   ]
  },
  {
   "cell_type": "code",
   "execution_count": 12,
   "metadata": {
    "collapsed": false
   },
   "outputs": [],
   "source": [
    "def calcula_condicional(df,den):\n",
    "    dfBomProb2=(dfBomProb+1)/(BoasPalavras+den)\n",
    "    dfRuimProb2=(dfRuimProb+1)/(RuimPalavras+den)\n",
    "    dfIrreProb2=(dfIrreProb+1)/(IrrePalavras+den)\n",
    "    dfNeutroProb2=(dfNeutroProb+1)/(NeutroPalavras+den)\n",
    "    return dfBomProb2, dfRuimProb2, dfIrreProb2, dfNeutroProb2"
   ]
  },
  {
   "cell_type": "code",
   "execution_count": null,
   "metadata": {
    "collapsed": true
   },
   "outputs": [],
   "source": []
  },
  {
   "cell_type": "code",
   "execution_count": 13,
   "metadata": {
    "collapsed": true
   },
   "outputs": [],
   "source": [
    "# for i in df.Treinamento:\n",
    "#     for u in i:\n",
    "#         print(\"u: \", u)\n",
    "#         print(\"dft u:\", dfTotal[u])\n"
   ]
  },
  {
   "cell_type": "code",
   "execution_count": 14,
   "metadata": {
    "collapsed": true
   },
   "outputs": [],
   "source": [
    "resultado=[]"
   ]
  },
  {
   "cell_type": "code",
   "execution_count": 15,
   "metadata": {
    "collapsed": true,
    "scrolled": false
   },
   "outputs": [],
   "source": [
    "def bayes(df,dfPalavras,lista):\n",
    "    den=0\n",
    "    for j in df:\n",
    "        for k in j:\n",
    "            if k not in check:\n",
    "                den+=1\n",
    "    x=calcula_condicional(df, den)\n",
    "    dfBomProb2=x[0]\n",
    "    dfRuimProb2=x[1]\n",
    "    dfIrreProb2=x[2]\n",
    "    dfNeutroProb2=x[3]\n",
    "    laplace=(1/(den))# obs da folha\n",
    "    for i in df: # for i in df.index:\n",
    "        c_bom=1\n",
    "        c_ruim=1\n",
    "        c_irre=1\n",
    "        c_neutro=1\n",
    "        for u in i:\n",
    "            #p=dfTotal[u]/len(dfTotal) #(Probabilidade da palavra no espaço amostral de todas as palavras)\n",
    "            if u not in dfBomProb2:\n",
    "                p_bom=laplace\n",
    "            else:\n",
    "                p_bom=dfBomProb2[u]\n",
    "            if u not in dfRuimProb2:\n",
    "                p_ruim=laplace\n",
    "            else:\n",
    "                p_ruim=dfRuimProb2[u]\n",
    "            if u not in dfIrreProb2:\n",
    "                p_irre=laplace\n",
    "            else:\n",
    "                p_irre=dfIrreProb2[u]\n",
    "            if u not in dfNeutroProb2:\n",
    "                p_neutro=laplace\n",
    "            else:\n",
    "                p_neutro=dfNeutroProb2[u]\n",
    "                \n",
    "            c_bom*=(p_bom)\n",
    "            c_ruim*=(p_ruim)\n",
    "            c_irre*=(p_irre)\n",
    "            c_neutro*=(p_neutro)\n",
    "        c_bom=c_bom*(ProbBom)\n",
    "        #print(\"c_bom:\",c_bom)\n",
    "        c_ruim=c_ruim*(ProbRuim)\n",
    "        #print(\"c_ruim:\",c_ruim)\n",
    "        c_irre=c_irre*(ProbIrre)\n",
    "        #print(\"c_irre:\",c_irre)\n",
    "        c_neutro=c_neutro*(ProbNeutro)\n",
    "\n",
    "        if c_bom>c_ruim and c_bom>c_irre and c_bom>c_neutro:\n",
    "            #Classifica como Bom (3)\n",
    "            lista.append(3)\n",
    "\n",
    "        elif c_ruim>c_bom and c_ruim>c_irre and c_ruim>c_neutro:\n",
    "            #Classifica como Ruim (1)\n",
    "            lista.append(1)\n",
    "        elif c_irre>c_bom and c_irre>c_ruim and c_irre>c_neutro:\n",
    "            #Classifica como Neutro (2)\n",
    "            lista.append(2)\n",
    "        else:\n",
    "            #Classifica como Irrelevante (0) \n",
    "            lista.append(0)\n",
    "    return lista"
   ]
  },
  {
   "cell_type": "code",
   "execution_count": 16,
   "metadata": {
    "collapsed": false
   },
   "outputs": [],
   "source": [
    "resultado=[]\n",
    "a=bayes(df[\"Treinamento\"],dfPalavras,resultado)"
   ]
  },
  {
   "cell_type": "code",
   "execution_count": 17,
   "metadata": {
    "collapsed": false
   },
   "outputs": [
    {
     "name": "stdout",
     "output_type": "stream",
     "text": [
      "300\n",
      "[2, 1, 0, 0, 2, 2, 2, 1, 2, 0, 1, 0, 1, 1, 0, 2, 1, 1, 0, 1, 1, 2, 2, 0, 2, 1, 0, 1, 2, 0, 1, 1, 2, 1, 0, 2, 2, 2, 0, 1, 2, 0, 1, 1, 0, 2, 1, 2, 2, 1, 2, 1, 1, 2, 1, 1, 1, 1, 1, 2, 2, 2, 2, 0, 2, 2, 1, 0, 1, 0, 0, 2, 1, 2, 2, 2, 1, 1, 2, 1, 2, 1, 1, 2, 2, 0, 1, 2, 0, 0, 1, 2, 1, 2, 2, 2, 2, 2, 1, 0, 0, 0, 2, 0, 1, 1, 0, 1, 1, 1, 1, 2, 1, 0, 2, 2, 0, 2, 1, 1, 1, 2, 1, 0, 0, 0, 2, 0, 1, 2, 1, 2, 2, 0, 0, 0, 2, 1, 1, 2, 2, 2, 1, 0, 1, 0, 2, 1, 1, 1, 0, 1, 1, 0, 0, 1, 2, 1, 0, 1, 1, 1, 2, 0, 1, 0, 0, 1, 0, 0, 0, 1, 0, 1, 0, 1, 2, 2, 0, 1, 0, 1, 1, 2, 1, 1, 0, 2, 0, 2, 0, 1, 2, 1, 2, 1, 1, 2, 2, 1, 1, 2, 1, 0, 1, 0, 0, 2, 0, 1, 1, 1, 1, 1, 1, 0, 2, 1, 2, 2, 2, 0, 0, 0, 0, 1, 2, 0, 2, 2, 0, 1, 2, 2, 0, 1, 1, 0, 2, 0, 1, 0, 2, 1, 2, 2, 2, 1, 1, 1, 1, 0, 0, 2, 2, 1, 2, 0, 1, 2, 0, 2, 0, 1, 0, 0, 1, 0, 1, 0, 1, 0, 1, 1, 2, 0, 1, 0, 1, 1, 0, 2, 0, 0, 1, 0, 1, 1, 1, 0, 0, 2, 1, 0, 1, 0, 0, 1, 2, 1]\n"
     ]
    }
   ],
   "source": [
    "print(len(resultado))\n",
    "print(a)"
   ]
  },
  {
   "cell_type": "code",
   "execution_count": 18,
   "metadata": {
    "collapsed": true
   },
   "outputs": [],
   "source": [
    "df[\"Resultado\"]=a"
   ]
  },
  {
   "cell_type": "code",
   "execution_count": 19,
   "metadata": {
    "collapsed": false
   },
   "outputs": [
    {
     "data": {
      "text/html": [
       "<div>\n",
       "<table border=\"1\" class=\"dataframe\">\n",
       "  <thead>\n",
       "    <tr style=\"text-align: right;\">\n",
       "      <th></th>\n",
       "      <th>Treinamento</th>\n",
       "      <th>Classificação</th>\n",
       "      <th>Legenda</th>\n",
       "      <th>Resultado</th>\n",
       "    </tr>\n",
       "  </thead>\n",
       "  <tbody>\n",
       "    <tr>\n",
       "      <th>0</th>\n",
       "      <td>[n, é, pq, eu, tô, com, uma, crush, imensa, nã...</td>\n",
       "      <td>0</td>\n",
       "      <td>0 - IRRELEVANTE</td>\n",
       "      <td>2</td>\n",
       "    </tr>\n",
       "    <tr>\n",
       "      <th>1</th>\n",
       "      <td>[rt, @favstommo, ai, cansei, de, viver, mas, n...</td>\n",
       "      <td>1</td>\n",
       "      <td>1 - RUIM</td>\n",
       "      <td>1</td>\n",
       "    </tr>\n",
       "    <tr>\n",
       "      <th>2</th>\n",
       "      <td>[@carlosruaror, consegui,, riot, me, enviou, o...</td>\n",
       "      <td>2</td>\n",
       "      <td>2 - BOM</td>\n",
       "      <td>0</td>\n",
       "    </tr>\n",
       "    <tr>\n",
       "      <th>3</th>\n",
       "      <td>[riot, fala, assim, mesmo, rs, https, t, co, r...</td>\n",
       "      <td>2</td>\n",
       "      <td>NaN</td>\n",
       "      <td>0</td>\n",
       "    </tr>\n",
       "    <tr>\n",
       "      <th>4</th>\n",
       "      <td>[rt, @saradocinzas, aaaaaaaaaaaaa, vai, toma, ...</td>\n",
       "      <td>0</td>\n",
       "      <td>NaN</td>\n",
       "      <td>2</td>\n",
       "    </tr>\n",
       "  </tbody>\n",
       "</table>\n",
       "</div>"
      ],
      "text/plain": [
       "                                         Treinamento  Classificação  \\\n",
       "0  [n, é, pq, eu, tô, com, uma, crush, imensa, nã...              0   \n",
       "1  [rt, @favstommo, ai, cansei, de, viver, mas, n...              1   \n",
       "2  [@carlosruaror, consegui,, riot, me, enviou, o...              2   \n",
       "3  [riot, fala, assim, mesmo, rs, https, t, co, r...              2   \n",
       "4  [rt, @saradocinzas, aaaaaaaaaaaaa, vai, toma, ...              0   \n",
       "\n",
       "           Legenda  Resultado  \n",
       "0  0 - IRRELEVANTE          2  \n",
       "1         1 - RUIM          1  \n",
       "2          2 - BOM          0  \n",
       "3              NaN          0  \n",
       "4              NaN          2  "
      ]
     },
     "execution_count": 19,
     "metadata": {},
     "output_type": "execute_result"
    }
   ],
   "source": [
    "df.head()"
   ]
  },
  {
   "cell_type": "markdown",
   "metadata": {},
   "source": [
    "___\n",
    "## Verificando a performance\n",
    "\n",
    "Agora você deve testar o seu Classificador com a base de Testes.<br /><br /> \n",
    "\n",
    "Você deve extrair as seguintes medidas:\n",
    "* Porcentagem de positivos falsos (marcados como relevante mas não são relevantes)\n",
    "* Porcentagem de positivos verdadeiros (marcado como relevante e são relevantes)\n",
    "* Porcentagem de negativos verdadeiros (marcado como não relevante e não são relevantes)\n",
    "* Porcentagem de negativos falsos (marcado como não relevante e são relevantes)\n",
    "\n",
    "Obrigatório para grupos de 3 alunos:\n",
    "* Criar categorias intermediárias de relevância baseado na diferença de probabilidades. Exemplo: muito relevante, relevante, neutro, irrelevante e muito irrelevante."
   ]
  },
  {
   "cell_type": "code",
   "execution_count": null,
   "metadata": {
    "collapsed": true
   },
   "outputs": [],
   "source": [
    "r=[]\n",
    "b=bayes(dfTeste['Treinamento'],dfPalavras,r)\n",
    "dfTeste['Resultado']=b"
   ]
  },
  {
   "cell_type": "code",
   "execution_count": null,
   "metadata": {
    "collapsed": false,
    "scrolled": true
   },
   "outputs": [],
   "source": [
    "dfTeste"
   ]
  },
  {
   "cell_type": "code",
   "execution_count": null,
   "metadata": {
    "collapsed": true
   },
   "outputs": [],
   "source": []
  },
  {
   "cell_type": "code",
   "execution_count": null,
   "metadata": {
    "collapsed": true
   },
   "outputs": [],
   "source": []
  },
  {
   "cell_type": "markdown",
   "metadata": {},
   "source": [
    "___\n",
    "## Concluindo\n",
    "\n",
    "Escreva aqui a sua conclusão.<br /> \n",
    "Faça um comparativo qualitativo sobre as medidas obtidas.<br />\n",
    "Explique como são tratadas as mensagens com dupla negação e sarcasmo.<br />\n",
    "Proponha um plano de expansão. Por que eles devem continuar financiando o seu projeto?<br />\n",
    "\n",
    "Opcionalmente: \n",
    "* Discorrer por que não posso alimentar minha base de Treinamento automaticamente usando o próprio classificador, aplicado a novos tweets.\n",
    "* Propor diferentes cenários de uso para o classificador Naive-Bayes. Cenários sem intersecção com este projeto.\n",
    "* Sugerir e explicar melhorias reais no classificador com indicações concretas de como implementar (não é preciso codificar, mas indicar como fazer e material de pesquisa sobre o assunto).\n"
   ]
  },
  {
   "cell_type": "code",
   "execution_count": null,
   "metadata": {
    "collapsed": true
   },
   "outputs": [],
   "source": []
  }
 ],
 "metadata": {
  "kernelspec": {
   "display_name": "Python 3",
   "language": "python",
   "name": "python3"
  },
  "language_info": {
   "codemirror_mode": {
    "name": "ipython",
    "version": 3
   },
   "file_extension": ".py",
   "mimetype": "text/x-python",
   "name": "python",
   "nbconvert_exporter": "python",
   "pygments_lexer": "ipython3",
   "version": "3.6.0"
  }
 },
 "nbformat": 4,
 "nbformat_minor": 2
}
