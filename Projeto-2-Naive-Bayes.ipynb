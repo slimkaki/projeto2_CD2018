{
 "cells": [
  {
   "cell_type": "markdown",
   "metadata": {},
   "source": [
    "# Projeto 2 - Classificador Automático de Sentimento\n",
    "\n",
    "Você foi contratado por uma empresa parar analisar como os clientes estão reagindo a um determinado produto no Twitter. A empresa deseja que você crie um programa que irá analisar as mensagens disponíveis e classificará como \"relevante\" ou \"irrelevante\". Com isso ela deseja que mensagens negativas, que denigrem o nome do produto, ou que mereçam destaque, disparem um foco de atenção da área de marketing.<br /><br />\n",
    "Como aluno de Ciência dos Dados, você lembrou do Teorema de Bayes, mais especificamente do Classificador Naive-Bayes, que é largamente utilizado em filtros anti-spam de e-mails. O classificador permite calcular qual a probabilidade de uma mensagem ser relevante dadas as palavras em seu conteúdo.<br /><br />\n",
    "Para realizar o MVP (*minimum viable product*) do projeto, você precisa implementar uma versão do classificador que \"aprende\" o que é relevante com uma base de treinamento e compara a performance dos resultados com uma base de testes.<br /><br />\n",
    "Após validado, o seu protótipo poderá também capturar e classificar automaticamente as mensagens da plataforma.\n",
    "\n",
    "## Informações do Projeto\n",
    "\n",
    "Prazo: 19/Set até às 23:59.<br />\n",
    "Grupo: 2 ou 3 pessoas - grupos com 3 pessoas terá uma rubrica diferenciada.<br /><br />\n",
    "Entregáveis via GitHub: \n",
    "* Arquivo notebook com o código do classificador, seguindo as orientações abaixo.\n",
    "* Arquivo Excel com as bases de treinamento e teste totalmente classificado.\n",
    "\n",
    "**NÃO gravar a key do professor no arquivo**\n",
    "\n",
    "\n",
    "### Entrega Intermediária: Check 1 - APS 2\n",
    "\n",
    "Até o dia 10/Set às 23:59, xlsx deve estar no Github com as seguintes evidências: \n",
    "\n",
    "  * Produto escolhido.\n",
    "  * Arquivo Excel contendo a base de treinamento e a base de testes já classificadas.\n",
    "\n",
    "Sugestão de leitura:<br />\n",
    "https://monkeylearn.com/blog/practical-explanation-naive-bayes-classifier/"
   ]
  },
  {
   "cell_type": "markdown",
   "metadata": {},
   "source": [
    "___\n",
    "\n",
    "## Parte I - Adquirindo a Base de Dados\n",
    "\n",
    "Acessar o notebook **Projeto-2-Planilha** para realizar a coleta dos dados. O grupo deve classificar os dados coletados manualmente."
   ]
  },
  {
   "cell_type": "code",
   "execution_count": 25,
   "metadata": {
    "collapsed": true
   },
   "outputs": [],
   "source": [
    "%matplotlib inline\n",
    "import pandas as pd\n",
    "import matplotlib.pyplot as plt\n",
    "import numpy as np\n",
    "from scipy import stats"
   ]
  },
  {
   "cell_type": "code",
   "execution_count": 26,
   "metadata": {
    "collapsed": true
   },
   "outputs": [],
   "source": [
    "df=pd.read_excel('tweets_riot.xlsx','Treinamento',sep=',')\n",
    "dfTeste=pd.read_excel('teste.xlsx','Teste',sep=',')"
   ]
  },
  {
   "cell_type": "code",
   "execution_count": 27,
   "metadata": {
    "collapsed": true
   },
   "outputs": [],
   "source": [
    "lista1=['  ','   ',':','(',')','`','[',']','.','/','\" ',\"'\"]\n",
    "lista2=[' ',' ',' ',' ',' ',' ',' ',' ',' ',' ',' ',' ']\n",
    "for i in range(len(lista1)):\n",
    "    df['Treinamento']=df.Treinamento.str.replace(lista1[i], lista2[i])\n",
    "df['Treinamento']=df.Treinamento.str.lower()"
   ]
  },
  {
   "cell_type": "code",
   "execution_count": 28,
   "metadata": {
    "collapsed": false
   },
   "outputs": [
    {
     "data": {
      "text/html": [
       "<div>\n",
       "<table border=\"1\" class=\"dataframe\">\n",
       "  <thead>\n",
       "    <tr style=\"text-align: right;\">\n",
       "      <th></th>\n",
       "      <th>Treinamento</th>\n",
       "      <th>Classificação</th>\n",
       "      <th>Legenda</th>\n",
       "    </tr>\n",
       "  </thead>\n",
       "  <tbody>\n",
       "    <tr>\n",
       "      <th>0</th>\n",
       "      <td>[n, é, pq, eu, tô, com, uma, crush, imensa, nã...</td>\n",
       "      <td>0</td>\n",
       "      <td>0 - IRRELEVANTE</td>\n",
       "    </tr>\n",
       "    <tr>\n",
       "      <th>1</th>\n",
       "      <td>[rt, @favstommo, ai, cansei, de, viver, mas, n...</td>\n",
       "      <td>1</td>\n",
       "      <td>1 - RUIM</td>\n",
       "    </tr>\n",
       "    <tr>\n",
       "      <th>2</th>\n",
       "      <td>[@carlosruaror, consegui,, riot, me, enviou, o...</td>\n",
       "      <td>2</td>\n",
       "      <td>2 - BOM</td>\n",
       "    </tr>\n",
       "    <tr>\n",
       "      <th>3</th>\n",
       "      <td>[riot, fala, assim, mesmo, rs, https, t, co, r...</td>\n",
       "      <td>2</td>\n",
       "      <td>NaN</td>\n",
       "    </tr>\n",
       "    <tr>\n",
       "      <th>4</th>\n",
       "      <td>[rt, @saradocinzas, aaaaaaaaaaaaa, vai, toma, ...</td>\n",
       "      <td>0</td>\n",
       "      <td>NaN</td>\n",
       "    </tr>\n",
       "  </tbody>\n",
       "</table>\n",
       "</div>"
      ],
      "text/plain": [
       "                                         Treinamento  Classificação  \\\n",
       "0  [n, é, pq, eu, tô, com, uma, crush, imensa, nã...              0   \n",
       "1  [rt, @favstommo, ai, cansei, de, viver, mas, n...              1   \n",
       "2  [@carlosruaror, consegui,, riot, me, enviou, o...              2   \n",
       "3  [riot, fala, assim, mesmo, rs, https, t, co, r...              2   \n",
       "4  [rt, @saradocinzas, aaaaaaaaaaaaa, vai, toma, ...              0   \n",
       "\n",
       "           Legenda  \n",
       "0  0 - IRRELEVANTE  \n",
       "1         1 - RUIM  \n",
       "2          2 - BOM  \n",
       "3              NaN  \n",
       "4              NaN  "
      ]
     },
     "execution_count": 28,
     "metadata": {},
     "output_type": "execute_result"
    }
   ],
   "source": [
    "df['Treinamento']=df['Treinamento'].str.split()\n",
    "df.head()"
   ]
  },
  {
   "cell_type": "code",
   "execution_count": null,
   "metadata": {
    "collapsed": true
   },
   "outputs": [],
   "source": []
  },
  {
   "cell_type": "markdown",
   "metadata": {},
   "source": [
    "___\n",
    "## Parte II - Montando o Classificador Naive-Bayes\n",
    "\n",
    "Com a base de treinamento montada, comece a desenvolver o classificador. Não se esqueça de implementar o Laplace Smoothing (https://en.wikipedia.org/wiki/Laplace_smoothing).\n",
    "\n",
    "Opcionalmente: \n",
    "* Limpar as mensagens removendo os caracteres: enter, :, \", ', (, ), etc. Não remover emojis.<br />\n",
    "* Corrigir separação de espaços entre palavras e/ou emojis.\n",
    "* Propor outras limpezas/transformações que não afetem a qualidade da informação.\n",
    "\n",
    "Escreva o seu código abaixo:"
   ]
  },
  {
   "cell_type": "code",
   "execution_count": 29,
   "metadata": {
    "collapsed": true
   },
   "outputs": [],
   "source": [
    "dfLen=len(df)\n",
    "\n",
    "dfBom=df[df['Classificação']==2]\n",
    "dfBomLen=len(dfBom)\n",
    "\n",
    "dfRuim=df[df['Classificação']==1]\n",
    "dfRuimLen=len(dfRuim)\n",
    "\n",
    "dfIrre=df[df['Classificação']==0]\n",
    "dfIrreLen=len(dfIrre)\n"
   ]
  },
  {
   "cell_type": "code",
   "execution_count": 30,
   "metadata": {
    "collapsed": false
   },
   "outputs": [
    {
     "name": "stdout",
     "output_type": "stream",
     "text": [
      "A probablidade de ser Bom  é:0.2866666666666667\n",
      "A probablidade de ser Ruim é:0.35\n",
      "A probablidade de ser Irre é:0.36333333333333334\n"
     ]
    }
   ],
   "source": [
    "# Probabilidades base\n",
    "ProbBom=len(dfBom)/(dfLen)\n",
    "ProbRuim=len(dfRuim)/(dfLen)\n",
    "ProbIrre=len(dfIrre)/(dfLen)\n",
    "print('A probablidade de ser Bom  é:{0}'.format(ProbBom))\n",
    "print('A probablidade de ser Ruim é:{0}'.format(ProbRuim))\n",
    "print('A probablidade de ser Irre é:{0}'.format(ProbIrre))\n"
   ]
  },
  {
   "cell_type": "code",
   "execution_count": 31,
   "metadata": {
    "collapsed": false
   },
   "outputs": [
    {
     "data": {
      "text/plain": [
       "riot     79\n",
       "a        67\n",
       "co       62\n",
       "https    62\n",
       "t        62\n",
       "dtype: int64"
      ]
     },
     "execution_count": 31,
     "metadata": {},
     "output_type": "execute_result"
    }
   ],
   "source": [
    "dfBomProb=dfBom[\"Treinamento\"].sum()\n",
    "dfBomProb=pd.Series(dfBomProb)\n",
    "dfBomProb=dfBomProb.value_counts()\n",
    "dfBomProb.head(5)"
   ]
  },
  {
   "cell_type": "code",
   "execution_count": 32,
   "metadata": {
    "collapsed": false
   },
   "outputs": [
    {
     "data": {
      "text/plain": [
       "riot    98\n",
       "a       68\n",
       "que     63\n",
       "e       60\n",
       "o       60\n",
       "dtype: int64"
      ]
     },
     "execution_count": 32,
     "metadata": {},
     "output_type": "execute_result"
    }
   ],
   "source": [
    "dfRuimProb=dfRuim[\"Treinamento\"].sum()\n",
    "dfRuimProb=pd.Series(dfRuimProb)\n",
    "dfRuimProb=dfRuimProb.value_counts()\n",
    "dfRuimProb.head(5)"
   ]
  },
  {
   "cell_type": "code",
   "execution_count": 33,
   "metadata": {
    "collapsed": false
   },
   "outputs": [
    {
     "data": {
      "text/plain": [
       "de     49\n",
       "rt     41\n",
       "que    37\n",
       "o      29\n",
       "eu     27\n",
       "dtype: int64"
      ]
     },
     "execution_count": 33,
     "metadata": {},
     "output_type": "execute_result"
    }
   ],
   "source": [
    "dfIrreProb=dfIrre[\"Treinamento\"].sum()\n",
    "dfIrreProb=pd.Series(dfIrreProb)\n",
    "dfIrreProb=dfIrreProb.value_counts()\n",
    "dfIrreProb.head(5)"
   ]
  },
  {
   "cell_type": "code",
   "execution_count": 42,
   "metadata": {
    "collapsed": false,
    "scrolled": true
   },
   "outputs": [
    {
     "data": {
      "text/html": [
       "<div>\n",
       "<table border=\"1\" class=\"dataframe\">\n",
       "  <thead>\n",
       "    <tr style=\"text-align: right;\">\n",
       "      <th></th>\n",
       "      <th>Treinamento</th>\n",
       "      <th>Classificação</th>\n",
       "      <th>Legenda</th>\n",
       "    </tr>\n",
       "  </thead>\n",
       "  <tbody>\n",
       "    <tr>\n",
       "      <th>2</th>\n",
       "      <td>[@carlosruaror, consegui,, riot, me, enviou, o...</td>\n",
       "      <td>2</td>\n",
       "      <td>2 - BOM</td>\n",
       "    </tr>\n",
       "    <tr>\n",
       "      <th>3</th>\n",
       "      <td>[riot, fala, assim, mesmo, rs, https, t, co, r...</td>\n",
       "      <td>2</td>\n",
       "      <td>NaN</td>\n",
       "    </tr>\n",
       "    <tr>\n",
       "      <th>7</th>\n",
       "      <td>[obg, por, investir, em, skin, e, dx, o, servi...</td>\n",
       "      <td>2</td>\n",
       "      <td>NaN</td>\n",
       "    </tr>\n",
       "    <tr>\n",
       "      <th>9</th>\n",
       "      <td>[anem, que, fofura, melhor, champ, que, a, rio...</td>\n",
       "      <td>2</td>\n",
       "      <td>NaN</td>\n",
       "    </tr>\n",
       "    <tr>\n",
       "      <th>10</th>\n",
       "      <td>[@lolegendsbr, riot,cade, as, novas, skins???,...</td>\n",
       "      <td>2</td>\n",
       "      <td>NaN</td>\n",
       "    </tr>\n",
       "  </tbody>\n",
       "</table>\n",
       "</div>"
      ],
      "text/plain": [
       "                                          Treinamento  Classificação  Legenda\n",
       "2   [@carlosruaror, consegui,, riot, me, enviou, o...              2  2 - BOM\n",
       "3   [riot, fala, assim, mesmo, rs, https, t, co, r...              2      NaN\n",
       "7   [obg, por, investir, em, skin, e, dx, o, servi...              2      NaN\n",
       "9   [anem, que, fofura, melhor, champ, que, a, rio...              2      NaN\n",
       "10  [@lolegendsbr, riot,cade, as, novas, skins???,...              2      NaN"
      ]
     },
     "execution_count": 42,
     "metadata": {},
     "output_type": "execute_result"
    }
   ],
   "source": [
    "dfTotal=df.Treinamento.sum()\n",
    "dfTotal=pd.Series(dfTotal)\n",
    "dfTotal=dfTotal.value_counts()\n",
    "dfBom.head()"
   ]
  },
  {
   "cell_type": "code",
   "execution_count": 49,
   "metadata": {
    "collapsed": true
   },
   "outputs": [],
   "source": [
    "#Calculando as probabilidades base\n",
    "#Prob palavra/bom\n",
    "dfBomProb2=(dfBomProb+1)/(len(dfBomProb)+len(dfTotal))\n",
    "#Prob palavra/ruim\n",
    "dfRuimProb2=(dfRuimProb+1)/(len(dfRuimProb)+len(dfTotal))\n",
    "#Prob palavra/irrelevante\n",
    "dfIrreProb2=(dfIrreProb+1)/(len(dfIrreProb)+len(dfTotal))\n"
   ]
  },
  {
   "cell_type": "code",
   "execution_count": 61,
   "metadata": {
    "collapsed": false
   },
   "outputs": [
    {
     "data": {
      "text/plain": [
       "'irrelevante'"
      ]
     },
     "execution_count": 61,
     "metadata": {},
     "output_type": "execute_result"
    }
   ],
   "source": [
    "def bayes(df, dfTotal):\n",
    "    laplace=(1/len(dfTotal))\n",
    "    for i in df:\n",
    "        c_bom=1\n",
    "        c_ruim=1\n",
    "        c_irre=1\n",
    "        for u in i:\n",
    "            p=dfTotal[u]/len(dfTotal) #(Probabilidade da palavra no espaço amostral de todas as palavras)\n",
    "            if u not in dfBomProb2:\n",
    "                p_bom=laplace\n",
    "            else:\n",
    "                p_bom=dfBomProb2[u]\n",
    "            if u not in dfRuimProb2:\n",
    "                p_ruim=laplace\n",
    "            else:\n",
    "                p_ruim=dfRuimProb2[u]\n",
    "            if u not in dfIrreProb2:\n",
    "                p_irre=laplace\n",
    "            else:\n",
    "                p_irre=dfIrreProb2[u]\n",
    "                \n",
    "            c_bom*=((p_bom*ProbBom)/p)\n",
    "            c_ruim*=((p_ruim*ProbRuim)/p)\n",
    "            c_irre*=((p_irre*ProbIrre)/p)\n",
    "            \n",
    "        if c_bom>c_ruim and c_bom>c_irre:\n",
    "            #Classifica como Bom (2)\n",
    "            return 'bom'\n",
    "        elif c_ruim>c_bom and c_ruim>c_irre:\n",
    "            #Classifica como Ruim (1)\n",
    "            return 'ruim'\n",
    "        elif c_irre>c_bom and c_irre>c_ruim:\n",
    "            #Classifica como Irrelevante (0)\n",
    "            return 'irrelevante'\n",
    "bayes(df.Treinamento, dfTotal)"
   ]
  },
  {
   "cell_type": "code",
   "execution_count": 60,
   "metadata": {
    "collapsed": false
   },
   "outputs": [
    {
     "name": "stdout",
     "output_type": "stream",
     "text": [
      "['n', 'é', 'pq', 'eu', 'tô', 'com', 'uma', 'crush', 'imensa', 'não', 'mas', 'acho', 'que', 'ela', 'ganha', 'essa', 'prova']\n",
      "['rt', '@favstommo', 'ai', 'cansei', 'de', 'viver', 'mas', 'n', 'quero', 'me', 'matar', 'boa', 'noite']\n",
      "['@carlosruaror', 'consegui,', 'riot', 'me', 'enviou', 'ontem']\n",
      "['riot', 'fala', 'assim', 'mesmo', 'rs', 'https', 't', 'co', 'rlgeks0oej']\n",
      "['rt', '@saradocinzas', 'aaaaaaaaaaaaa', 'vai', 'toma', 'no', 'cu', 'aaaaaa', 'aaaaaaaaaaaaaaaaaaaaaaaaaaa', 'aaaaaaaaaaaaaaaaaaaaaaaaaaaaaaaaaaaaaaaaaaaa', 'https', 't', 'co…']\n",
      "['ou', 'misericórdia', 'se', 'a', 'heaven', 'não', 'ganhar', 'esse', 'programa', 'meu', 'coração', 'ela', 'já', 'tem', '#masterchefbr']\n",
      "['rt', '@hugoverdose', 'meu', 'deus', 'os', 'gringos', 'acharam', 'que', 'sextou', 'significava', 'sex', 'to', 'you', 'e', 'agora', 'no', 'instagram', 'a', '#sextou', 'tá', 'só', 'pornozão', 'hahaha']\n",
      "['obg', 'por', 'investir', 'em', 'skin', 'e', 'dx', 'o', 'servidor', 'maravilhoso', 'riot', '😍']\n",
      "['rt', '@reajacomamor', 'aquela', 'sua', 'camisa', 'ainda', 'está', 'em', 'casa,', 'ainda', 'tem', 'o', 'seu', 'cheiro', 'cheiro', 'de', 'saudade', 'eterna', 'que', 'nunca', 'vai', 'embora', 'às', 'vezes', 'dur…']\n",
      "['anem', 'que', 'fofura', 'melhor', 'champ', 'que', 'a', 'riot', 'recriou', 'https', 't', 'co', 'albidbmmdt']\n",
      "['@lolegendsbr', 'riot,cade', 'as', 'novas', 'skins???', 'quero', 'os', 'videos', 'aaaa']\n",
      "['eae', 'riot', 'ninguem', 'me', 'para', 'é', 'isso', 'mesmo', 'que', 'eu', 'estou', 'vendo?', 'https', 't', 'co', '2q8jo9zrgb']\n",
      "['@ighilya', 'amiga', 'to', 'com', 'mt', 'medo', 'da', 'riot', 'fazer', 'urgot', 'sg']\n",
      "['ae', 'na', 'moral', 'nem', 'responderam', 'meu', 'ticket', 'e', 'eu', 'to', 'com', 'ban', 'ainda', 'why', 'riot', 'why', 'dude']\n",
      "['gostei', 'de', 'um', 'vídeo', 'do', '@youtube', 'https', 't', 'co', 'fanxiygtti', 'riot', 'anunciou', 'a', 'data', 'da', 'pré', 'temporada', 'e', 'lançamento', 'do', 'próximo', 'campeão!', 'a']\n",
      "['rt', '@saradocinzas', 'vontade', 'de', 'falar', '\"ta', 'idai', 'tanto', 'faz', 'essa', 'porra', 'pra', 'tudo']\n",
      "['@starswithnames', 'riot', 'games,', 'mas', 'relaxa,', 'eles', 'vão', 'por', 'mais', 'skins', 'supimpa']\n",
      "['faz', '3', 'dias', 'seguidos', 'q', 'to', 'escutando', 'riot', 'sdds']\n",
      "['gostei', 'de', 'um', 'vídeo', '@youtube', 'https', 't', 'co', 'pt73pwpg1a', 'campeões', 'que', 'a', 'riot', 'desistiu', 'de', 'lançar']\n",
      "['vc', 'sai', 'da', 'partida', 'e', 'o', 'client', 'fica', 'nisso', 'mano,', 'como', 'que', 'pode', 'a', 'riot', 'manter', 'um', 'client', 'lixoso', 'desse', 'o', 'bagulho', 'é', 'problematico', 'desde', 'o', 'lançamento', 'https', 't', 'co', 'crljijde9k']\n",
      "['rt', '@ozemerson', 'alo', 'riot', 'gueimes,', 'o', 'client', 'novo', 'é', 'lindo', 'falta', 'só', 'funcionar', '3']\n",
      "['@henrytado', 'pra', 'mim', 'morreu', 'depois', 'de', 'ler', 'isso', 'aqui', 'https', 't', 'co', 'r6gojejbja']\n",
      "['mentira', 'que', 'o', 'andré', 'saiu', '#masterchefbr']\n",
      "['riot', 'games', 'anuncia', 'segunda', 'edição', 'do', 'acampamento', 'yordle', 'https', 't', 'co', '2zn7o3yxnh']\n",
      "['rt', '@reajacomamor', 'dizem', 'que', 'o', 'tempo', 'apaga', 'as', 'lembranças', 'e', 'as', 'memórias', 'antigas,', 'mas', 'acho', 'que', 'ele', 'se', 'confundiu', 'e', 'acabou', 'eternizando', 'nossas', 'me…']\n",
      "['rt', '@anaclaraac', 'será', 'que', 'vale', 'a', 'pena', 'se', 'irritar', 'por', 'algo', 'que', 'não', 'vai', 'fazer', 'com', 'que', 'a', 'gente', 'cresça', 'como', 'seres', 'humanos?', 'coisas', 'que', 'não', 'vão', 'le…']\n",
      "['rt', '@williangordox', 'gostei', 'de', 'um', 'vídeo', '@youtube', 'https', 't', 'co', 'tok8vuoa8o', 'riot', 'games', '!']\n",
      "['o', 'client', 'novo', 'é', 'bom', 'e', 'funciona', 'perfeitamente', 'ass', 'riot', 'games', 'e', 'verdade', 'esse', 'bilete']\n",
      "['rt', '@postepunk', 'fiz', 'uma', 'segunda', 'parte', 'da', 'minha', 'playlist,', 'agora', 'são', '20', 'bandas', 'de', 'vocal', 'feminino', '+', '20', 'bandas', 'de', 'vocal', 'masculino', 'todas', 'são', 'atu…']\n",
      "['gostei', 'de', 'um', 'vídeo', '@youtube', 'https', 't', 'co', 'xhsxpe0rbi', 'campeões', 'que', 'a', 'riot', 'desistiu', 'de', 'lançar']\n",
      "['é', 'só', 'eu', 'pegar', 'md5', 'alguém', 'tem', 'que', 'kitar', 'da', 'partida', 'vai', 'toma', 'no', 'cu', 'riot']\n",
      "['@riotgames', 'tomei', 'um', 'puta', 'leavebuster', 'por', 'que', 'a', 'net', 'caiu', 'fiquei', '3', '0', '4', 'na', 'partida', 'e', 'ganhamos', 'ainda', 'porra', 'riot', 'nem', 'sei', 'o', 'que', 'falar', 'e', 'ainda', 'nem', 'ganhei', 'os', 'pdl', 'ta', 'mec', 'então', 'envez', 'de', 'dar', 'leave', 'buster', 'vai', 'arrumar', 'o', 'joguin']\n",
      "['rt', '@didicodanba', '-', 'já', 'superou?', '-', 'superei,', 'vai', 'cair', 'no', 'esquecimento', 'não', 'me', 'merece!', 'a', 'pessoa', 'oi', 'eu', 'https', 't', 'co', 'qcnugdtp7q']\n",
      "['alo', 'riot', 'faz', 'essa', 'porra', 'no', 'domingo,', 'sábado', 'eu', 'trabalho']\n",
      "['gostei', 'de', 'um', 'vídeo', '@youtube', 'https', 't', 'co', 'd70rzvvdw4', 'riot', 'games', '!']\n",
      "['rt', '@_filosofei', 'deus,', 'me', 'desculpe', 'se', 'eu', 'pedi', 'mais', 'do', 'que', 'agradeci']\n",
      "['rt', '@dougraz', 'minha', 'meta', 'eh', 'ficar', 'fluente', 'em', 'inglês', 'e', 'ficar', 'nos', 'lugares', 'falando', 'em', 'inglês', 'sozinho', 'no', 'telefone', 'fingindo', 'q', 'sou', 'gringo']\n",
      "['rt', '@cesaraustocesar', 'eu', 'acho', 'muito', 'emblemático', 'que', 'as', 'estátuas', 'das', 'entidades', 'gregas,', 'que', 'ficam', 'no', 'teto', 'do', 'museu', 'nacional,', 'tenham', 'sobrevivid…']\n",
      "['@bellolieta', 'momentos', 'https', 't', 'co', 'wm09d1wmma']\n",
      "['@lolegendsbr', 'riot', 'pq', 'vcs', 'me', 'odeiam??', 'não', 'consigo', 'entrar', 'no', 'jogo', 'já', 'faz', 'uns', '3', 'meses']\n",
      "['o', 'galo', 'é', 'muito', 'engraçado,', 'perde', 'pra', 'time', 'ruim', 'e', 'ganha', 'do', 'melhor', 'time', 'do', 'campeonato']\n",
      "['i', 'liked', 'a', '@youtube', 'video', 'https', 't', 'co', 'ybbbm2si2x', 'riot', 'anunciou', 'a', 'data', 'da', 'pré', 'temporada', 'e', 'lançamento', 'do', 'próximo', 'campeão!', 'a', 'maga']\n",
      "['@lolegendsbr', '@mustagod', 'cade', 'as', 'sg', 'riot', 'https', 't', 'co', 'hflgmqe7dm']\n",
      "['mano', 'invés', 'de', 'fazer', 'petição', 'pra', 'remover', 'champ', 'de', 'jogo', 'faz', 'petição', 'pra', 'riot', 'voltar', 'com', 'o', 'client', 'antigo', 'porra']\n",
      "['me', 'ha', 'gustado', 'un', 'vídeo', 'de', '@youtube', 'https', 't', 'co', 'qv1ib5o2d4', '-', 'riot', 'vai', 'banir', 'essa', 'estrategia', '-', '650', 'stacks', 'em', 'apenas', '20', 'minutos', '-']\n",
      "['nossa', 'que', 'curtinho', 'o', 'programa', 'hoje', '#videoshowaovivo']\n",
      "['rt', '@sorakaagressiva', 'mesmo', 'se', 'você', 'fizer', 'a', 'jogada', 'e', 'dar', 'todo', 'o', 'dano,', 'tem', 'que', 'deixar', 'o', 'abate', 'pro', 'atirador', 'ass', 'riot', 'games', 'ps', 'é', 'verdade', 'es…']\n",
      "['@carolpractice', '@farroutboy', 'eu', 'comprei', 'meu', 'riot', 'e', 'o', 'meu', 'bne', 'quando', 'cd', 'na', 'saraiva', 'custava', '19,90']\n",
      "['@kah_riot_kid', '@luanamarillo', '@kahcolv', 'eu', 'vou', 'ser', 'a', 'pomba', 'mais', 'estilosa', 'do', 'role', '😂😂']\n",
      "['\"jogadores', 'denunciaram', 'você', '15', 'vezes', 'nos', 'últimos', '100', 'jogos', 'por', 'sair', 'das', 'partidas', '\"', '??????', 'eu', 'nunca', 'saio', 'no', 'meio', 'dos', 'game,', 'os', 'maluco', 'da', 'riot', 'tão', 'fumando', 'alguma', 'coisa,', 'não', 'é', 'possível']\n",
      "['@reajacomamor', '\"a', 'gente', 'perde', 'muito', 'tempo', 'pensando', 'no', 'depois', 'e', 'aí', 'é', 'tarde', 'demais', 'pra', 'gente', 'se', 'arrepender', 'sentir', 'saudades', 'nunca', 'traz', 'de', 'volta', 'quem', 'se', 'foi', '\"']\n",
      "['@chandy_teixeira', '@srguiiiiiii', 'eu', 'sei', 'que', 'é', 'como', 'a', 'riot', 'considera', 'hj', 'os', 'que', 'times', 'que', 'chegam', 'até', 'a', 'fase', 'de', 'entrada', 'mas', 'discordo', 'desse', 'pensamento', 'da', 'empresa']\n",
      "['pensando', 'bem', 'nessas', 'eleições', 'é', 'bom', 'apostar', 'no', 'ciro', 'mesmo']\n",
      "['rt', '@becahmaciel', 'se', 'eu', 'coloco', 'aquele', 'negócio', 'das', 'pessoas', 'falarem', 'o', 'que', 'amam', 'em', 'você', 'lá', 'no', 'stories', 'eu', 'fico', 'num', 'vácuo', 'eterno']\n",
      "['se', 'um', 'dia', 'eu', 'tiver', 'um', 'avc', 'pode', 'processar', 'a', 'riot', 'games', 'por', 'me', 'por', 'nesses', 'times', 'que', 'só', 'tem', 'imbecil']\n",
      "['@_pedropj', '@espnesportsbr', '@espnagora', '@s04esports', 'pedro,', 'boa', 'tarde', 'tudo', 'bem', 'com', 'você?', 'sim,', 'estamos', 'ciente', 'contudo,', 'levamos', 'em', 'consideração', 'ao', 'fato', 'da', 'riot', 'games', 'considerar', 'como', 'regiões', '\"major', 'na,', 'eu,', 'kr,', 'cn', 'e', 'lms', 'espero', 'que', 'tenha', 'entendido!']\n",
      "['rt', '@ighilya', 'riot', 'disse', 'que', 'tera', 'algo', 'novo,', 'esperando', 'minhas', 'guardiã', 'estelares', 'com', 'modo', 'novo', 'e', 'uma', 'cinematic', 'bem', 'linda', 'com', 'musica', 'e', 'histori…']\n",
      "['@chandy_teixeira', 'a', 'riot', 'considera', 'só', 'o', 'segundo', 'split', 'mas', 'os', 'fãs', 'não', 'https', 't', 'co', 'mt7crst3ok']\n",
      "['6', 'hora', 'da', 'manhã', 'e', 'celular', 'descarregado', 'já,', 'obrigado', 'riot', 'games']\n",
      "['a', 'galera', 'nunca', 'tá', 'satisfeita', 'com', 'nada', 'tbm,', 'adora', 'dar', 'pitaco', 'na', 'vida', 'dos', 'outros', 'ao', 'invés', 'de', 'cuidar', 'da', 'própria,', 'ou', 'fulano', 'tá', 'gordo', 'demais', 'ou', 'tá', 'magro', 'demais']\n",
      "['rt', '@kccxbts', 'gente,', 'minha', 'mãe', 'motorista', 'de', 'uber', 'há', 'pouco', 'tempo', 'virou', 'motorista', 'desse', 'app', 'p', 'mulheres', 'as', 'motoristas', 'são', 'todas', 'mulheres', 'e…']\n",
      "['gente', 'eu', 'gostava', 'do', 'andré', 'meu', 'deus', 'que', 'ódio', 'o', 'daniel', 'ficando', '#masterchefbr']\n",
      "['cansada', 'de', 'tudo', 'e', 'de', 'todos']\n",
      "['gracas', 'a', 'deus', 'a', 'riot', 'mandou', 'o', 'mono', 'janna', 'top', 'hoje', 'eh', 'meu', 'dia', 'https', 't', 'co', 'w3pnmpvnet']\n",
      "['@_krolzz', 'é', 'muito', 'estranho', 'né?', 'quanto', 'mais', 'o', 'tempo', 'passa', 'menos', 'eu', 'consigo', 'entender', 'as', 'pessoas']\n",
      "['@alinona_', '@_kmayumi', 'haahahahaahajw', 'a', 'pessoa', 'tem', 'que', 'ter', 'muita', 'cara', 'de', 'pau', 'né,', 'eu', 'não', 'consigo', 'não']\n",
      "['@redbertt', 'e', 'dormir', 'sem', 'conseguir', 'jogar', 'lol', 'pois', 'a', 'riot', 'games', 'tá', 'indo', 'muito', 'bem', '😍😍😍']\n",
      "['gostei', 'de', 'um', 'vídeo', '@youtube', 'https', 't', 'co', 'cjkficbqov', 'riot', 'games', '!']\n",
      "['rt', '@higorriccio', '@lolegendsbr', '@mustagod', 'cade', 'minhas', 'sg', 'riot', 'vc', 'prometeu']\n",
      "['gostei', 'de', 'um', 'vídeo', '@youtube', 'https', 't', 'co', '9utcydsapa', 'riot', 'games', '!']\n",
      "['gostei', 'de', 'um', 'vídeo', '@youtube', 'https', 't', 'co', '64cyje5svw', 'campeões', 'que', 'a', 'riot', 'desistiu', 'de', 'lançar']\n",
      "['pra', 'curtir', 'o', 'rock', 'grunge', 'com', 'a', 'volta', 'das', 'garotas', 'do', 'l7', 'ao', 'brasil', '#rock', '#grunge', '#l7', '#punk', '#riotgrrrl', 'https', 't', 'co', 'f23qkjkcna', 'https', 't', 'co', 'peivjkxxff']\n",
      "['15', '3', '13', '289', 'de', 'cs', 'e', 'riot', 'n', 'me', 'da', 'nem', 'um', 's', 'p', 'eu', 'pegar', 'm7', 'com', 'meu', 'zed', 'ah', 'ok']\n",
      "['rt', '@aquisagitario', '#sagitário', 'me', 'tratou', 'com', 'frieza?', 'se', 'prepara', 'que', 'vou', 'fazer', 'nevar']\n",
      "['@__simonassi', 'ansiedade', 'é', 'realmente', 'difícil', 'de', 'lidar']\n",
      "['@tixinhadois', '@melaotreze', 'ai', '@tixinhadois', 'como', 'é', 'que', 'eu', 'faço', 'pra', 'denunciar', 'alguém', 'no', 'forum', 'da', 'riot?']\n",
      "['rt', '@ryaanl16', '@lolegendsbr', '@mustagod', 'cade', 'as', 'sg', 'riot', 'https', 't', 'co', 'hflgmqe7dm']\n",
      "['vai', 'se', 'foder', 'riot']\n",
      "['rt', '@djongadorge', 'e', 'aí', 'tudo', 'chocante', '?', 'tudo', 'chocrivel', '?']\n",
      "['a', 'riot', 'já', 'ta', 'tão', 'cismada', 'comigo', 'que', 'me', 'joga', 'top', 'até', 'quando', 'eu', 'não', 'marco', 'top', 'wtf', 'eu', 'quero', 'ir', 'jungle', 'mano']\n",
      "['quando', 'tu', 'recebe', 'conselho', 'de', 'uma', 'pessoa', 'que', 'se', 'cobrou', 'tanto', 'quanto', 'você,', 'parece', 'que', 'saí', 'uma', 'tonelada', 'de', 'cima', 'de', 'ti']\n",
      "['@sayaurie', '@paramorzao', '@melzzzsss', '@parawhorezona', '@yelyahwilliams', '@gooddyeyoung', '@colormebrian', 'bom', 'foi', 'so', 'o', 'riot', 'mesmo', 'nao', 'sei', 'onde', 'que', 'vi', 'uma', 'foto', 'com', 'essas', 'duas', 'cores', 'misturadas', 'confusa', 'nao', 'precisa', 'creditar', 'necessariamente', 'a', 'marca,', 'mas', 'mesmo', 'assim', 'as', 'pessoas', 'se', 'perguntam', 'pq', 'ficou', 'foda', 'o', 'photoshoot', 'e', 'a', 'paper', 'é', 'uma', 'revista', 'super', 'importante,', 'dá', 'visibilidade']\n",
      "['rt', '@sorakaagressiva', 'mesmo', 'se', 'você', 'fizer', 'a', 'jogada', 'e', 'dar', 'todo', 'o', 'dano,', 'tem', 'que', 'deixar', 'o', 'abate', 'pro', 'atirador', 'ass', 'riot', 'games', 'ps', 'é', 'verdade', 'es…']\n",
      "['rt', '@priiiponte', 'tô', 'no', 'shopping', 'e', 'uma', 'senhora', 'chegou', 'na', 'mesa', 'pedindo', 'pra', 'gente', 'seguir', 'o', 'canal', 'dela', 'ela', 'ensina', 'a', 'fazer', 'croche', 'achei', 'fofo', 'de…']\n",
      "['gente', 'eu', 'to', 'completamente', 'apaixonada', 'pelo', 'cachorro', 'da', 'anitta,', 'o', 'plinio,', 'quero', 'pra', 'mim']\n",
      "['rt', '@caju_sz', 'princesas', 'dando', 'role', 'na', 'riot', 'https', 't', 'co', 'h7f4lkeg7j']\n",
      "['rt', '@renk_lol', 'o', 'client', 'novo', 'é', 'bom', 'e', 'funciona', 'perfeitamente', 'ass', 'riot', 'games', 'e', 'verdade', 'esse', 'bilete']\n",
      "['@riot_m', 'passei', 'pela', 'mesma', 'coisa!!', 'teve', 'gente', 'que', 'me', 'bloqueou', 'ainda', 'por', 'cima', 'quero', 'é', 'distância', 'dessas', 'pessoas', 'mesmo']\n",
      "['@vicenzzo_', '@ericat_lol', '@jullianpablo', 'wellp,', 'só', 'esclarecendo,', 'eu', 'sou', 'completamente', 'salgado', 'por', 'causa', 'dessa', 'onda', 'de', 'fake', 'news', 'e', 'blablabla,', 'e', 'essa', 'depreciação', 'é', 'uma', 'parada', 'tão', 'besta', 'que', 'pra', 'mim', 'não', 'fazia', 'sentido', 'nenhum', 'ser', 'algo', 'oficial', 'da', 'riot', 'acabei', 'sendo', 'preconceituoso', 'com', 'o', 'trabalho', 'de', 'vocês']\n",
      "['i', 'liked', 'a', '@youtube', 'video', 'https', 't', 'co', 'rc7e76tpwq', 'riot', 'revelou', 'mais', 'de', '10', 'reworks', 'relançamentos,', 'o', 'que', 'esperar', 'de', 'cada', 'um', 'deles?']\n",
      "['rt', '@chandy_teixeira', 'vale', 'sempre', 'lembrar', 'que', 'a', 'riot', 'games', 'considera', 'apenas', 'o', 'vencedor', 'do', '2°', 'split', 'como', 'campeão', 'brasileiro', 'diretriz', 'da', 'dese…']\n",
      "['@pc_riot', 'aí', 'migo', 'hahahaha']\n",
      "['não', 'tem', 'porque', 'a', 'riot', 'lançar', 'guardiã', 'estelares', 'malvadas', 'sendo', 'que', 'a', 'ahri', 'sg', 'não', 'é', 'boazinha']\n",
      "['rt', '@reallyanac', 'tava', 'assistindo', 'o', 'stories', 'da', 'bruna', 'marquezine', 'sobre', 'pessoas', 'que', 'comentam', 'coisas', 'desnecessárias', 'o', 'que', 'é', 'muito', 'frequente', 'e', 'en…']\n",
      "['rt', '@lovesbaidwin', 'tirem', 'um', 'pouco', 'do', 'tempo', 'de', 'vcs', 'e', 'vejam', 'esse', 'vídeo,', 'obrigada', 'por', 'isso', 'bruna', 'marquezine', 'https', 't', 'co', 'p1zp9mhoi6']\n",
      "['rt', '@iloverapbrasil', 'nesse', 'clima', 'friozinho', 'só', 'faltou', 'você', 'pra', 'gnt', 'cair', 'na', 'porrada', 'e', 'depois', 'fuder']\n",
      "['fala', 'que', 'é', 'rockeiro', 'mais', 'não', 'curte', 'quiot', 'riot!', '😎', 'https', 't', 'co', '0f5qkihdkc']\n",
      "['rt', '@lgbener', 'dorme', 'de', 'conchinha', 'cmg?', 'prometo', 'não', 'ficar', 'com', 'fogo', 'e', 'acabar', 'transando', 'com', 'você', 'eh', 'verdade', 'esse', 'bilhete']\n",
      "['se', 'essa', 'nova', 'campeã', 'for', 'mesmo', 'uma', 'yordle', 'a', 'riot', 'nunca', 'irá', 'lançar', 'um', 'campeão', 'fada']\n",
      "['gostei', 'de', 'um', 'vídeo', '@youtube', 'https', 't', 'co', '5ybliuixef', 'riot', 'games', '!']\n",
      "['engraçado', 'vai', 'geral', 'pra', 'porto', 'alegre', 'ver', 'o', 'cblol', 'porque', 'a', 'riot', 'nesse', 'ano', 'vai', 'pagar', 'a', 'viagem', 'deles', 'os', 'streamers', 'os', 'youtubers', 'é', 'etc', 'ahusfuhasfuhasfuhasufh']\n",
      "['gostei', 'de', 'um', 'vídeo', '@youtube', 'https', 't', 'co', 'mg7wmngn9i', 'riot', 'games', '!']\n",
      "['rt', '@fordestiel', 'queria', 'ser', 'bonito', 'pra', 'poder', 'postar', 'foto', 'no', 'twitter']\n",
      "['gostei', 'de', 'um', 'vídeo', '@youtube', 'https', 't', 'co', 'v3n1g7nnqr', 'riot', 'games', '!']\n",
      "['@saturdaybowie', 'se', 'um', 'diamante', 'desiste', 'do', 'game', 'eh', 'pq', 'a', 'coisa', 'ta', 'pior', 'do', 'que', 'imagina', 'alo', 'riot,presta', 'a', 'atençao']\n",
      "['obrigada', 'por', 'nada', 'riot', 'games']\n",
      "['@promoarenatv', 'ano', 'que', 'vem', 'a', 'classificatória', 'será', 'da', 'riot', 'games', 'br?', 'saudades', 'da', 'promoarena', '😭', 'https', 't', 'co', 'uzklc6lcda']\n",
      "['riot', 'posta', 'bom', 'dia', 'eu', 'saio', 'assim', 'https', 't', 'co', '4lrgtdascl']\n",
      "['rt', '@nachrenan', 'tá', 'pra', 'nascer', 'um', 'servidor', 'mais', 'merda', 'que', 'o', 'da', 'riot']\n",
      "['@riot_overlord', 'é', 'bom', 'sonhar!']\n",
      "['eu', 'odeio', 'a', 'riot', 'cara,', '2', 'partidas', 'seguidas', 'os', 'nego', 'simplesmente', 'kitam', 'no', 'early', 'e', 'voltam', 'late', 'me', 'explica', 'como', 'q', 'ganha', 'nesse', 'jogo', 'zzz']\n",
      "['rt', '@blocomeclife', 'usar', 'drogas', 'ok', 'agora', 'me', 'usar', 'pra', 'preencher', 'o', 'vazio', 'da', 'pessoa', 'q', 'vc', 'gosta', 'ok', 'tbm']\n",
      "['ganhei', 'minha', 'primeira', 'da', 'md3', 'e', 'ta', 'contando', 'como', 'derrota,', 'e', 'ai', 'riot????']\n",
      "['i', 'liked', 'a', '@youtube', 'video', 'https', 't', 'co', 'w7iu0cxri6', 'riot', 'apelou', 'para', 'reconquistar', 'a', 'confiança,', 'certaintlyt', 'comenta', 'polemicas,', 'hate', 'na']\n",
      "['@zore_riot', '@joanaplucas', 'que', 'vocês', 'usam', '\"ou\",', 'certo?']\n",
      "['rt', '@daysofmarlon', 'dica', 'para', 'a', 'vida', '“mantenha', 'a', 'calma,', 'não', 'demonstre', 'fraqueza', 'e', 'tenha', 'o', 'controle', 'da', 'situação”', 'https', 't', 'co', 'b3pq4jscih']\n",
      "['rt', '@sorakaagressiva', '&lt;spoiler', 'alert&gt;', 'me', 'chamaram', 'aqui', 'na', 'riot', 'para', 'ver', 'se', 'eu', 'aprovo', 'o', 'novo', 'jogo', 'que', 'eles', 'estão', 'fazendo', 'vou', 'vazar', 'a', 'imagem…']\n",
      "['rt', '@queridojeito', '“acontece', 'que', 'não', 'confio', 'em', 'ninguém', '”', '—', 'the', 'vampire', 'diaries']\n",
      "['rt', '@renk_lol', 'o', 'client', 'novo', 'é', 'bom', 'e', 'funciona', 'perfeitamente', 'ass', 'riot', 'games', 'e', 'verdade', 'esse', 'bilete']\n",
      "['@lolegendsbr', 'ano', 'ruim', 'ein', 'riot,', 'não', 'é', 'a', 'primeira', 'vez', 'que', 'isso', 'acontece,', 'e', 'desde', 'março', 'desse', 'ano', 'parece', 'que', 'vcs', 'estão', 'se', 'esforçando', 'para', 'perder', 'público', 'talvez', 'esse', 'ano', 'seja', 'meu', 'último', 'de', 'lol', 'mêsmo']\n",
      "['esta', 'riot', 'só', 'tem', 'merda', 'na', 'cabeça,', 'só', 'pode']\n",
      "['heaven', 'meu', 'anjo', 'essa', 'competição', 'só', 'vai', 'acabar', 'pra', 'vc', 'no', 'último', 'dia', 'bjs', '#masterchefbr']\n",
      "['@pedromiani', '@jullianpablo', 'mas', 'o', 'que', 'tá', 'escrito', 'tá', 'certo', 'a', 'riot', 'não', 'considera', 'mesmo', 'não', 'da', 'pra', 'entender', 'a', 'depreciação', 'da', 'riot', 'c', 'o', '1', 'split']\n",
      "['mano', 'eu', 'n', 'reclamo', 'da', 'riot', 'oh', 'pq', 'hoje', 'mesmo', 'eu', 'disse', '\"ah', 'skin', 'da', 'lulu', 'inverno', 'mágico', 'é', 'muito', 'fofa,', 'pena', 'q', 'n', 'dá', 'pra', 'comprar', 'ai', 'pah', 'eu', 'abro', 'um', 'baú', 'e', 'oq', 'vem', 'a', 'lulu', 'inverno', 'mágico', 'satisfatório']\n",
      "['rt', '@youarenotgroot', 'entao', 'galera', 'nós', 'estamos', 'resolvendo', 'esse', 'problema', 'no', 'clienacabou', 'de', 'sair', 'skin', 'nova', 'do', 'talon', 'e', 'da', 'irelia', 'corre', 'la', 'galera…']\n",
      "['posição', '666,', 'mestre', '0', 'pdl,', 'queue&gt;', 'open', 'mid', 'de', '9', 'min,', 'a', 'riot', 'n', 'quer', 'me', 'deixar', 'dropar!', 'https', 't', 'co', 'ntrm75rbgn']\n",
      "['@ketlyn_cm', 'ja', 'to', 'me', 'tremendo', 'só', 'com', 'teu', 'comentário', 'kkkkkkk']\n",
      "['i', 'liked', 'a', '@youtube', 'video', 'https', 't', 'co', 'akg50vsns4', 'os', 'campeões', 'que', 'a', 'riot', 'desistiu', 'de', 'lançar']\n",
      "['@softchizzu', '@lucdesu', '@fvckluvv1', 'kkkkkkkk', 'qual', 'foi', 'grazi,', 'talon', 'é', 'o', 'melhor', 'campeão', 'ele', 'merece', 'ter', 'boas', 'skins', 'e', 'luc', 'manda', 'isso', 'pra', 'riot,', 'muito', 'bom']\n",
      "['@guui_riot', 'aaaaaaa', 'eu', 'queria', 'mt', 'poder', 'pegar', 'um', '😭']\n",
      "['pensamento', 'da', 'riot', '\"vamos', 'investir', 'em', 'skins', 'e', 'ficar', 'ricos', 'enquanto', 'deixamos', 'os', 'jogadores', 'passando', 'raiva', 'com', 'o', 'client,', 'eles', 'são', 'trouxas', 'mesmo\"']\n",
      "['rt', '@larossaw', 'memória', 'sexual', 'eh', 'foda', 'vc', 'ta', 'lá', 'de', 'boa', 'fazendo', 'a', 'lista', 'do', 'mercado', 'mentalmente', 'quando', 'do', 'nada', 'pô', 'aquela', 'vez', 'foi', 'massa']\n",
      "['rt', '@brunozor', 'tava', 'trocando', 'elogio', 'chamei', 'a', 'mina', 'de', 'linda', 'e', 'ouvi', 'um', 'vc', 'tem', 'carinha', 'de', 'quem', 'toma', 'remédio', 'controlado']\n",
      "['@sadbutlovely', '@bukkakehime', '@dollinhos', 'oiiiii', 'matilda,', 'vim', 'aqiui', 'por', 'meio', 'de', 'choro', 'pedir', 'projeto', 'jhin', 'pois', 'nao', 'sou', 'bem', 'de', 'vida', 'para', 'efetuar', 'a', 'conta', 'de', 'riot', 'points', 'obrigado', 'amo', 'vcs', '3,', 'manda', 'mesmo', 'nick', 'triste']\n",
      "['vlw', 'riot', 'adoro', 'vcs', 'https', 't', 'co', '9lhxf0hfz2']\n",
      "['adicionei', 'um', 'vídeo', 'a', 'uma', 'playlist', '@youtube', 'https', 't', 'co', 'wixa8ugqyh', 'campeões', 'que', 'a', 'riot', 'desistiu', 'de', 'lançar']\n",
      "['@springzord', 'amo', 'queria', 'ouvir', 'um', 'silver', 'rocket', 'ou', 'teenage', 'riot', 'também!']\n",
      "['rt', '@sorakaagressiva', 'mesmo', 'se', 'você', 'fizer', 'a', 'jogada', 'e', 'dar', 'todo', 'o', 'dano,', 'tem', 'que', 'deixar', 'o', 'abate', 'pro', 'atirador', 'ass', 'riot', 'games', 'ps', 'é', 'verdade', 'es…']\n",
      "['rt', '@renk_lol', 'o', 'client', 'novo', 'é', 'bom', 'e', 'funciona', 'perfeitamente', 'ass', 'riot', 'games', 'e', 'verdade', 'esse', 'bilete']\n",
      "['@mustagod', 'quando', 'começa', 'a', 'trabalhar', 'na', 'riot?', 'kkkkk']\n",
      "['tô', 'nas', 'antigas', 'hoje']\n",
      "['rt', '@dougraz', 'quem', 'quiser', 'uma', 'dica', 'pra', 'aumentar', 'o', 'vocabulário', 'em', 'inglês', 'ou', 'outra', 'língua', 'q', 'tiver', 'estudando', 'vai', 'todo', 'dia', 'num', 'local', 'e', 'começa', 've…']\n",
      "['é', 'aquela', 'velha', 'coisa', 'né,', 'se', 'não', 'tem', 'algo', 'bom', 'pra', 'falar,', 'não', 'fale']\n",
      "['gostei', 'de', 'um', 'vídeo', '@youtube', 'https', 't', 'co', 'unjuul4gmj', '-', 'self', 'riot', 'music', 'video']\n",
      "['riot', 'patrocina', 'o', 'bolsa', 'troll']\n",
      "['@lolegendsbr', 'riot', 'lança', 'mais', 'desconto', 'que', 'eu', 'acabei', 'de', 'comprar', '7', '2k', 'de', 'rp,amo', 'vocês', '❤']\n",
      "['@vincentvanglock', 'assim,', 'só', 'de', 'curiosidade,', 'vc', 'sem', 'droga', 'nenhuma', 'já', 'teve', 'uma', 'conexão', 'forte', 'com', 'alguém', 'e', 'fez', 'a', 'mesma', 'coisa', 'do', 'vídeo', 'com', 'essa', 'pessoa?', 'pessoas', 'positivas', 'e', 'sensivas', 'realmente', 'geralmente', 'conexões', 'independente', 'de', 'droga,', 'acho', 'que', 'não', 'deve', 'ser', 'seu', 'caso', 'desculpe-me', 'se', 'estiver', 'errada']\n",
      "['@drtybowie', 'pior', 'que', 'a', 'própria', 'riot', 'fodeu', 'o', 'lol,', 'nunca', 'vi', 'tanta', 'atualização', 'de', 'merda,', 'foderam', 'total', 'os', 'adc', 'sup', 'e', 'jungle,', 'ninguém', 'aguenta']\n",
      "['esse', 'servidor', 'da', 'riot', 'ta', 'um', 'lixo']\n",
      "['rt', '@sorakaagressiva', 'mesmo', 'se', 'você', 'fizer', 'a', 'jogada', 'e', 'dar', 'todo', 'o', 'dano,', 'tem', 'que', 'deixar', 'o', 'abate', 'pro', 'atirador', 'ass', 'riot', 'games', 'ps', 'é', 'verdade', 'es…']\n",
      "['gostei', 'de', 'um', 'vídeo', '@youtube', 'https', 't', 'co', 'phsjeenp1xão', 'acredito', 'que', 'buffaram', 'o', 'kayn', 'azul!', '*riot', 'qual', 'o', 'seu', 'problema?*', '-', 'kayn', 'jungle']\n",
      "['rt', '@leticiavargws', 'riot', 'posta', 'bom', 'dia', 'eu', 'saio', 'assim', 'https', 't', 'co', '4lrgtdascl']\n",
      "['@lolegendsbr', 'boa', 'riot', 'games,', 'o', 'servidor', 'tá', 'uma', 'maravilha']\n",
      "['gostei', 'de', 'um', 'vídeo', '@youtube', 'https', 't', 'co', 'kbfrcqmnds', 'riot', 'games', '!']\n",
      "['gostei', 'de', 'um', 'vídeo', '@youtube', 'https', 't', 'co', '9jgo1riqb5', 'riot', 'games', '!']\n",
      "['riot', 'não', 'adianta', 'insistir', 'eu', 'n', 'vou', 'jogar', 'de', 'zac', 'https', 't', 'co', 'ys3ykqc2sp']\n",
      "['rt', '@alicepensativa', 'tem', 'dia', 'que', 'eu', 'gosto', 'de', 'me', 'afastar,', 'de', 'não', 'responder,', 'de', 'não', 'conversar', 'e', 'isso', 'não', 'é', 'nada', 'pessoal', 'é', 'apenas', 'o', 'meu', 'jeito…']\n",
      "['@stonedyooda', 'é', 'a', 'porcaria', 'da', 'riot', 'que', 'não', 'arruma', 'o', 'serve', 'vcs', 'streamer', 'famosos', 'deveriam', 'para', 'de', 'jogar', 'ou', 'pedir', 'pra', 'que', 'eles', 'arrumasse', 'a', 'porcaria', 'do', 'servidor', 'porque', 'parece', 'que', 'eles', 'não', 'tao', 'nem', 'ai', 'só', 'querem', 'skins', 'merda', 'toda', 'semana', 'e', 'campeão', 'bosta']\n",
      "['t', 'odeio', 'riot', 'https', 't', 'co', 'tmpe1tg28t']\n",
      "['@yvictorxd', '@lolegendsbr', '@yvictorxd', 'a', 'riot', 'praticamente', 'todo', 'mês', 'lança', 'skin', 'nova', 'e', 'rework', 'desbalanceado', 'pra', 'lucrar', 'fácil', 'mas', 'ñ', 'dá', 'a', 'mínima', 'pra', 'resolver', 'esses', 'problemas', 'do', 'client', 'esse', 'fds', 'eu', 'tive', 'um', 'problema', 'pra', 'encontrar', 'partida', 'no', 'client', 'e', 'se', 'ñ', 'fosse', 'o', 'pessoal', 'do', 'fórum', 'eu', 'ñ', 'teria', 'conseguido', 'resolver']\n",
      "['riot', 'libera', 'ai', 'a', 'skin', 'thaina', 'nidalee', 'faz', 'o', 'favor']\n",
      "['nossa', 'mano,', 'pistolei', 'total', 'com', 'a', 'riot', 'agora']\n",
      "['@basimonassi', 'deveria', 'ter', 'feito', 'isso', 'comigo,', 'durante', 'os', 'últimos', '19', 'anos', 'que', 'só', 'joguei', 'videogames']\n",
      "['rt', '@migasuaioka', 'expectativa', 'realidade', 'https', 't', 'co', '3srjydpqdy']\n",
      "['a', 'riot', 'fez', 'o', 'lol', 'só', 'pra', 'high', 'elo,', 'pq', 'low', 'elo', 'só', 'toma', 'no', 'cu,', 'por', 'mais', 'que', 'jogue', 'bem,', 'vai', 'ter', 'sempre', '4', 'babaca', 'no', 'time']\n",
      "['rt', '@lexwegrey', 'meu', 'feriado', 'vai', 'ser', 'assim', 'https', 't', 'co', 'f6lpkzywdx']\n",
      "['sério', '#riot?', '#yasuo', 'https', 't', 'co', '72oweawxu2']\n",
      "['ninguem', 'liga', 'pra', 'clash', 'riot', 'queremos', 'é', 'nossa', 'sg']\n",
      "['@yukisanscotz', 'vou', 'nada', 'suhuhasfu', 'vou', 'ficar', 'na', 'riot', 'para', 'ver', 'o', 'pessoal', 'comprando', 'minhas', 'roupas', 'dentro', 'do', 'lol', '🤓🤓😊']\n",
      "['serio', 'q', 'a', 'riot', 'fez', 'esse', 'icone', 'https', 't', 'co', 'xclcpyuxfl']\n",
      "['adidas', 'supernova', 'riot', '6', '#running', '#atletisme', 'https', 't', 'co', 'mg5zz1ctbz']\n",
      "['iai', 'riot', 'quando', 'vão', 'lançar', 'uma', 'skin', 'pro', 'heimer']\n",
      "['gostei', 'de', 'um', 'vídeo', '@youtube', 'https', 't', 'co', 'hqzv6si05n', 'campeões', 'que', 'a', 'riot', 'desistiu', 'de', 'lançar']\n",
      "['uma', 'vez', 'eu', 'tava', 'no', 'meio', 'de', 'uma', 'partida', 'de', 'lol', 'e', 'colou', 'a', '@nanoquental_', 'a', '@xuliahausner', 'e', 'mais', '5', 'pessoas', 'na', 'minha', 'casa', 'do', 'nada', 'eu', 'fui', 'fiel', 'a', 'riot', 'games', 'e', 'passei', '40', 'min', 'ignorando', 'todas', 'as', 'visitas']\n",
      "['i', 'liked', 'a', '@youtube', 'video', 'https', 't', 'co', 'jbzhse0ihf', 'riot', 'apelou', 'para', 'reconquistar', 'a', 'confiança,', 'certaintlyt', 'comenta', 'polemicas,', 'hate', 'na']\n",
      "['rt', '@renk_lol', 'o', 'client', 'novo', 'é', 'bom', 'e', 'funciona', 'perfeitamente', 'ass', 'riot', 'games', 'e', 'verdade', 'esse', 'bilete']\n",
      "['@alinona_', '@_kmayumi', 'igual', 'o', 'povo', 'da', 'escola', 'também,', 'nem', 'falavam', 'com', 'a', 'gente,', 'mas', 'na', 'faculdade', 'se', 'nos', 'encontrávamos', 'no', 'corredor', 'era', '‘oi,', 'tudo', 'bem?’', 'dando', 'tchauzinho', 'e', 'tudo', 'mais', '🤦\\u200d♀️']\n",
      "['hoje', 'acordei', 'mais', 'feliz', 'amanhã', 'é', 'feriado', '♥️']\n",
      "['gostei', 'de', 'um', 'vídeo', '@youtube', 'https', 't', 'co', 'bbcladxatj', 'campeões', 'que', 'a', 'riot', 'desistiu', 'de', 'lançar']\n",
      "['@lolegendsbr', 'merda', 'riot', 'a', 'que', 'raiva', 'que', 'to', 'disso', 'o', 'jogo', 'nao', 'diverte', 'mais', 'so', 'estressa', ',', 'tirem', 'o', 'chat', 'do', 'jogo', 'pf', 'deixa', 'o', 'chat', 'para', 'amigos', 'como', 'voces', 'fizerao', 'com', 'o', 'chat', 'de', 'voz', 'vai', 'mudar', 'bastante', 'o', 'jogo', 'e', 'pra', 'melhor', ',', 'quando', 'as', 'pessoas', 'tem', 'como', 'se', 'espressar', 'ai', 'que', 'entra', 'a', 'toxidade']\n",
      "['obrigado', 'riot', 'games', '!', 'https', 't', 'co', 'euqwhzdir1', 'via', '@youtube']\n",
      "['queria', 'muito', 'saber', 'o', 'que', 'é', 'riot', 'store']\n",
      "['só', 'cai', 'acéfalo', 'no', 'meu', 'time,', 'tnc', 'riot']\n",
      "['rt', '@glaennyg', 'mulheres,', 'toda', 'vez', 'que', 'um', 'cara', 'mandar', 'foto', 'do', 'pau', 'sem', 'você', 'ter', 'pedido,', 'responda', 'assim', 'kkkkkkkkkkkkkkkkkkkkkkkkkkkkkkkkkkkkk…']\n",
      "['olha', 'isso', '@labdezaun', '@kenharusame', 'reportem', 'isso', 'pra', 'riot', 'pf,', 'to', 'muito', 'frustrado', 'v6', 'n', 'tem', 'noção']\n",
      "['rt', '@mpbesports', 'lol', 'foram', 'definidos', 'os', 'confrontos', 'da', 'série', 'de', 'promoção', 'para', 'o', 'circuito', 'desafiante', '2019', '10', '09', '@falkoloficial', 'x', '@starssub…']\n",
      "['gostei', 'de', 'um', 'vídeo', '@youtube', 'https', 't', 'co', 'hjzonvvn01', 'campeões', 'que', 'a', 'riot', 'desistiu', 'de', 'lançar']\n",
      "['gente,', 'tenho', 'novidades', 'a', 'yakisoba', 'teve', 'filhotesssss']\n",
      "['i', 'liked', 'a', '@youtube', 'video', 'https', 't', 'co', 'kk9s0xmjhr', 'riot', 'anunciou', 'a', 'data', 'da', 'pré', 'temporada', 'e', 'lançamento', 'do', 'próximo', 'campeão!', 'a', 'maga']\n",
      "['eu', 'vejo', 'muita', 'referencia', 'do', 'john', 'mayer', 'na', 'sandy,', 'principalmente', 'essa', 'música', 'que', 'vai', 'sair', 'dela', 'com', 'mateus', 'asato']\n",
      "['rt', '@youarenotgroot', 'entao', 'galera', 'nós', 'estamos', 'resolvendo', 'esse', 'problema', 'no', 'clienacabou', 'de', 'sair', 'skin', 'nova', 'do', 'talon', 'e', 'da', 'irelia', 'corre', 'la', 'galera…']\n",
      "['só', 'quero', 'que', 'ring', 'of', 'elysium', 'saia', 'logo', 'do', 'alfapra', 'eu', 'abandonar', 'league', 'of', 'legends', 'lol', 'é', 'um', 'jogo', 'que', 'frusta', 'qualquer', 'um', 'porque', 'simplesmente', 'a', 'riot', 'games', 'tem', 'medo', 'de', 'punir', 'os', 'jogadores', 'q', 'dao', 'rage,', 'troll', 'etc']\n",
      "['amiga', 'escute,', 'se', 'sua', 'equipe', 'ganhou,', 'vc', 'não', 'foi', 'uma', 'boa', 'líder', '#masterchefbr']\n",
      "['mas', 'a', 'riot', 'me', 'botouna', 'fila', 'de', 'prioridade', 'dnv', 'por', 'nada', 'wtf']\n",
      "['rt', '@beatrizcianci1', 'nao', 'valorize', 'tanto', 'pessoas', '\"que', 'te', 'dão', 'tudo\"', 'o', 'boy', 'rico', 'te', 'dar', 'um', 'anel', 'caro', 'ele', 'nem', 'precisou', 'se', 'esforçar', 'às', 'vezes', 'ele…']\n",
      "['vou', 'melhorar', 'o', 'client', 'ass', 'riot', 'games', 'è', 'verdade', 'esse', 'bilhete']\n",
      "['rt', '@renk_lol', 'o', 'client', 'novo', 'é', 'bom', 'e', 'funciona', 'perfeitamente', 'ass', 'riot', 'games', 'e', 'verdade', 'esse', 'bilete']\n",
      "['@zore_riot', 'este', 'foi', 'bem', 'engraçado', '😂😂']\n",
      "['enema', 'of', 'the', 'state', '-', 'blink', '182', 'wonderland', '-', 'mcfly', 'so', 'wrong', 'it', 's', 'right', '-', 'all', 'time', 'low', 'riot', '-', 'paramore', 'o', 'glorioso', 'retorno', 'de', 'quem', '-', 'emicida', 'isso', 'é', 'muito', 'loco', 'https', 't', 'co', 'ht2hity2ca']\n",
      "['@lolegendsbr', '20', 'minutos', 'de', 'espera', 'pra', 'entrar', 'na', 'partida', 'pra', 'quando', 'acabar', 'o', 'lol', 'ficar', 'tentando', 'reconectar', 'sendo', 'que', 'minha', 'internet', 'tava', 'normal', 'e', 'eu', 'perder', 'os', '20', 'minutos', 'que', 'eu', 'esperei', ',', 'aí', 'é', 'foda', 'riot']\n",
      "['não', 'é', 'de', 'se', 'assustar', 'que', 'exista', 'um', 'comportamento', 'tão', 'sexista', 'dentro', 'da', 'própria', 'riot,', 'quando', 'eles', 'contratam', 'pessoas', 'da', 'propria', 'comunidade', 'de', 'jogadores,', 'que', 'em', 'grande', 'parte', 'são', 'pessoas', 'horríveis']\n",
      "['rt', '@glaennyg', 'mulheres,', 'toda', 'vez', 'que', 'um', 'cara', 'mandar', 'foto', 'do', 'pau', 'sem', 'você', 'ter', 'pedido,', 'responda', 'assim', 'kkkkkkkkkkkkkkkkkkkkkkkkkkkkkkkkkkkkk…']\n",
      "['rt', '@sorakaagressiva', 'mesmo', 'se', 'você', 'fizer', 'a', 'jogada', 'e', 'dar', 'todo', 'o', 'dano,', 'tem', 'que', 'deixar', 'o', 'abate', 'pro', 'atirador', 'ass', 'riot', 'games', 'ps', 'é', 'verdade', 'es…']\n",
      "['gostei', 'de', 'um', 'vídeo', '@youtube', 'https', 't', 'co', 'pvqp6p339w', 'riot', 'games', '!']\n",
      "['mano', 'vai', 'tomar', 'no', 'cu', 'da', 'riot,', 'to', 'querendo', 'jogar', 'ranked', 'mas', 'ja', 'e', 'a', 'quarta', 'partida', 'seguida', 'que', 'alguem', 'do', 'time', 'n', 'conecta', 'e', 'tem', 'q', 'dar', 'rmk']\n",
      "['gostei', 'de', 'um', 'vídeo', '@youtube', 'https', 't', 'co', 'tok8vuoa8o', 'riot', 'games', '!']\n",
      "['gostei', 'de', 'um', 'vídeo', '@youtube', 'https', 't', 'co', '3mwphooqjm', 'riot', 'games', '!']\n",
      "['ai', 'a', 'heaven', 'falando', '\"patissiere', 'meu', 'senhor', 'que', 'mulher', '#masterchefbr']\n",
      "['gostei', 'de', 'um', 'vídeo', '@youtube', 'https', 't', 'co', 'nkk4axu7il', 'riot', 'release', 'tabu?', '-', 'league', 'of', 'legends']\n",
      "['@itsmattyaall', '@farroutboy', 'comprei', 'no', 'site', 'da', 'americanas', 'o', 'riot', 'e', 'o', 'awkif', 'por', '20', 'tbm', 'mas', 'a', 'mts', 'séculos', 'atrás']\n",
      "['@lolegendsbr', 'so', 'falo', 'a', 'ultima', 'coisa', 'eu', 'confio', 'em', 'voces', 'mudem', 'a', 'situaçao', 'do', 'jogo', 'eu', 'sei', 'que', 'voces', 'conseguem', ',', 'boa', 'sorte', 'riot', ',eu', 'vou', 'parar', 'de', 'joga', 'o', 'lol', 'ate', 'que', 'voces', 'ajeitem', 'tudo', 'denovo', 'como', 'ja', 'fizerao', 'tchau', 'riot', 'ate', 'breve']\n",
      "['@owllip_mp4', '@danielsdesu', 'isso', 'é', 'muito', 'triste,', 'a', 'riot', 'fala', 'tanto', 'mas', 'nunca', 'age', 'como', 'devia', 'em', 'relação', 'a', 'punições', 'e', 'isso', 'é', 'muito', 'frustante', 'sabe', 'o', 'clubezinho', 'sub', '15', 'que', 'não', 'sabe', 'jogar', 'queto']\n",
      "['@ighilya', 'sem', 'contar', 'que', 'a', 'riot', 'sempre', 'diz', 'que', 'no', 'processo', 'de', 'criação', 'de', 'uma', 'skin', 'eles', 'tentam', 'não', 'fazer', 'algo', 'que', 'já', 'exista', 'parecido', 'no', 'jogo,', 'e', 'já', 'tem', 'algo', 'maléfico', 'com', 'temática', 'estelar,', 'as', 'dark', 'stars']\n",
      "['simplesmente', 'nao', 'to', 'conseguindo', 'ate', 'o', 'crossfit', 'eu', 'larguei']\n",
      "['ae', 'riot', 'quando', 'vcs', 'vao', 'arrumar', 'a', 'hitbox', 'da', 'bandagem', 'do', 'amumu?', 'ta', 'paia']\n",
      "['gostei', 'de', 'um', 'vídeo', '@youtube', 'https', 't', 'co', '8sbkn3xokx', 'riot', 'games', '!']\n",
      "['rt', '@luscas', 'eu', 'acredito', 'q', 'o', 'mundo', 'pode', 'sim', 'ser', 'um', 'lugar', 'melhor', 'mas', 'pra', 'isso', 'umas', 'pessoas', 'têm', 'q', 'deixar', 'de', 'existir']\n",
      "['rt', '@renk_lol', 'o', 'client', 'novo', 'é', 'bom', 'e', 'funciona', 'perfeitamente', 'ass', 'riot', 'games', 'e', 'verdade', 'esse', 'bilete']\n",
      "['@ighilya', 'meu', 'deus', 'olha', 'eu', 'desatualizadissimoooooooooi', 'bota', 'esse', 'povo', 'pra', 'trabalhar', 'eu', 'quero', 'respostas', 'riot']\n",
      "['@joanaplucas', '@zore_riot', 'i', 'knew', 'it', 'que', 'eu', 'também', 'uso']\n",
      "['1', 'pessoa', 'acaba', 'de', 'visitar', 'seu', 'perfil', 'https', 't', 'co', 'uh5lenwazr']\n",
      "['rt', '@sorakaagressiva', '&lt;spoiler', 'alert&gt;', 'me', 'chamaram', 'aqui', 'na', 'riot', 'para', 'ver', 'se', 'eu', 'aprovo', 'o', 'novo', 'jogo', 'que', 'eles', 'estão', 'fazendo', 'vou', 'vazar', 'a', 'imagem…']\n",
      "['i', 'liked', 'a', '@youtube', 'video', 'https', 't', 'co', '4sjkyya3p3', 'riot', 'anunciou', 'a', 'data', 'da', 'pré', 'temporada', 'e', 'lançamento', 'do', 'próximo', 'campeão!', 'a', 'maga']\n",
      "['gostei', 'de', 'um', 'vídeo', '@youtube', 'https', 't', 'co', 'zj8mnk8csz', 'campeões', 'que', 'a', 'riot', 'desistiu', 'de', 'lançar']\n",
      "['@mephislo', 'https', 't', 'co', 'ao4oolja6e', 'para', 'acompanhar']\n",
      "['@ericat_lol', '@jullianpablo', '@pedromiani', 'mais', 'um', 'falando', '\"jornalismo\",', 'sendo', 'que', 'o', 'repórter', 'que', 'escreveu', 'só', 'reproduziu', 'o', 'que', 'a', 'riot', 'determina', 'para', 'de', 'passar', 'vergonha', 'cara']\n",
      "['gente', 'eu', 'não', 'ia', 'conseguir', 'presenciar', 'uma', 'prova', 'dessas', 'eu', 'não', 'ia', 'nem', 'olhar', '#masterchefbr']\n",
      "['pros', 'riot', 'fã', 'https', 't', 'co', '2kyn6gthgu']\n",
      "['rt', '@astrodazueira', 'sagitário', 'só', 'quer', 'viajar', 'ri', 'de', 'tudo', 'tem', 'as', 'piores', 'piadas', 'ps', 'só', 'ele', 'ri', 'eh', 'de', 'humanas', 'kkkkkkkkkkkkk', 'livre', 'good', 'vibes', 're…']\n",
      "['desgraça', '#masterchefbr']\n",
      "['é', 'muito', 'neném', 'https', 't', 'co', 'rs7vzfvftd']\n",
      "['eu', 'quito', 'quantas', 'partidas', 'eu', 'quiser', 'e', 'a', 'riot', 'não', 'faz', 'nada', 'porque', 'eu', 'gasto', 'tanto', 'nesse', 'jogo,', 'tenho', 'tratamento', 'vip']\n",
      "['rt', '@pqp_dann', 'meu', 'deus!', 'que', 'desabafo', 'da', 'bruna', 'tão', 'importante', 'ela', 'falar', 'isso', 'tão', 'importante', 'ela', 'tem', 'mais', 'de', '31', 'milhões', 'de', 'seguidores', 'e', 'al…']\n",
      "['reportagem', 'da', 'festa', 'a', 'fantasia', 'do', 'aviões', 'no', 'sbt', 'e', 'a', 'ana', 'aparecendo', 'lá', 'no', 'fundinho']\n",
      "['gostei', 'de', 'um', 'vídeo', '@youtube', 'https', 't', 'co', 'jyltgoscv7', 'campeões', 'que', 'a', 'riot', 'desistiu', 'de', 'lançar']\n",
      "['jogar', 'contra', 'zoe', 'é', 'ruim', 'demais', 'exclui', 'isso', 'do', 'jogo', 'logo', 'riot', '&lt;']\n",
      "['velho', 'eu', 'n', 'entendo', 'a', 'riot', 'tipo', 'eu', 'tenho', 'quitado', '60%', 'dos', 'meus', 'games', 'e', 'eles', 'ainda', 'me', 'consideram', 'um', 'jogador', 'honrado']\n",
      "['rt', '@lolegendsbr', 'os', 'desafios', 'para', 'uma', 'jornada', 'imortal', 'são', 'completamente', 'diferentes', 'do', 'que', 'qualquer', 'um', 'jamais', 'imaginou', 'mas,', 'talon', 'e', 'irelia…']\n",
      "['essa', 'morgana', 'é', 'a', 'única', 'sertaneja', 'que', 'eu', 'até', 'gosto', 'de', 'ver', 'cantando', '#thevoicebrasil']\n",
      "['gostei', 'de', 'um', 'vídeo', '@youtube', 'https', 't', 'co', 'a87d9upmiu', 'campeões', 'que', 'a', 'riot', 'desistiu', 'de', 'lançar']\n",
      "['rt', '@sorakaagressiva', 'mesmo', 'se', 'você', 'fizer', 'a', 'jogada', 'e', 'dar', 'todo', 'o', 'dano,', 'tem', 'que', 'deixar', 'o', 'abate', 'pro', 'atirador', 'ass', 'riot', 'games', 'ps', 'é', 'verdade', 'es…']\n",
      "['i', 'liked', 'a', '@youtube', 'video', 'https', 't', 'co', 'elipmym4gy', 'a', 'melhor', 'skin', 'já', 'feita', 'pela', 'riot?', '*vale', 'mais', 'que', '1820rp!*', '-', 'lucian', 'velho', 'oeste', 'adc']\n",
      "['@alinona_', '@riot_m', 'hahahahhaha', 'tem', 'esses', 'também']\n",
      "['rt', '@renk_lol', 'o', 'client', 'novo', 'é', 'bom', 'e', 'funciona', 'perfeitamente', 'ass', 'riot', 'games', 'e', 'verdade', 'esse', 'bilete']\n",
      "['rt', '@etbip0lar', 'tem', 'uma', 'sexta', 'feira', 'na', 'minha', 'quinta😁', 'fim', 'de', 'semana', 'começa', 'hj', 'bb', 'obs', 'em', 'casa', 'como', 'sempre!']\n",
      "['@luanamarillo', '@kahcolv', '@kah_riot_kid', 'obrigada', '❤️❤️', 'vou', 'voar', 'com', 'cachecol', 'agora', '😂😂😂']\n",
      "['rt', '@postepunk', 'fiz', 'uma', 'segunda', 'parte', 'da', 'minha', 'playlist,', 'agora', 'são', '20', 'bandas', 'de', 'vocal', 'feminino', '+', '20', 'bandas', 'de', 'vocal', 'masculino', 'todas', 'são', 'atu…']\n",
      "['como', 'assim', 'skin', 'vitoriosa', 'pro', 'yasuo', 'a', 'riot', 'enlouqueceu', 'de', 'vez']\n",
      "['vamos', 'riot,', 'veja', 'meu', 'ticket,', 'nem', 'só', 'de', 'peido', 'vive', 'uma', 'empresa']\n",
      "['@dndsza', '@danielsdesu', 'exatamente,', 'as', 'pessoas', 'jogam', 'pra', 'se', 'distrair', 'e', 'não', 'pra', 'arrumar', 'mais', 'frustrações', 'de', 'graça,', 'a', 'riot', 'não', 'se', 'esforça', 'pra', 'proporcionar', 'um', 'ambiente', 'saudável', 'nos', 'jogos', 'dela', 'e', 'ela', 'tá', 'perdendo', 'com', 'isso', 'porque,', 'obviamente,', 'as', 'pessoas', 'vão', 'migrar', 'pra', 'outros', 'jogos', 'eu', 'mesmo', 'fui', 'pra', 'hots', 'e', 'wow']\n",
      "['@drtybowie', 'a', 'riot', 'fez', 'tanta', 'merda', 'que', 'meu', 'irmão', 'era', 'diamante', 'e', 'até', 'ele', 'desistiu', 'do', 'lol', 'riot', 'eu', 'odeio', 'vc', 'pq', 'vc', 'foi', 'mexer', 'no', 'que', 'tava', 'bom']\n",
      "['acabei', 'de', 'assistir', 'riot', 'pra', 'lembrar', 'a', 'importância', 'da', 'parada', 'lgbt,', 'impactada']\n",
      "['gostei', 'de', 'um', 'vídeo', '@youtube', 'https', 't', 'co', 'csojqoqilt', 'vici', '-', 'the', 'tribe', 'riot', 'dubstep', 'remix']\n",
      "['@riot_m', '@curitibacult', '@30secondsbrasil', '@umusicbrasil', '@moveconcertsbr', '@sitejaredletobr', 'aceito', 'ir', 'pra', 'curitiba']\n",
      "['rt', '@matos_095', 'olá,', 'nós,', 'equipe', 'da', 'seleção', 'brasileira', 'de', 'futsal', 'de', 'surdos,', 'gostaríamos', 'de', 'ter', 'um', 'pouco', 'de', 'atenção', 'de', 'vocês', 'para', 'falar', 'sobre…']\n",
      "['rt', '@sorakaagressiva', 'mesmo', 'se', 'você', 'fizer', 'a', 'jogada', 'e', 'dar', 'todo', 'o', 'dano,', 'tem', 'que', 'deixar', 'o', 'abate', 'pro', 'atirador', 'ass', 'riot', 'games', 'ps', 'é', 'verdade', 'es…']\n",
      "['rt', '@fodasemeuamigo', '\"é', 'dificil', 'respeitar', 'minha', 'opinião?\"', 'sim', 'pois', 'ela', 'esta', 'errada']\n",
      "['adicionei', 'um', 'vídeo', 'a', 'uma', 'playlist', '@youtube', 'https', 't', 'co', '48wcutk9cu', 'riot', 'games', '!']\n",
      "['rt', '@renk_lol', 'o', 'client', 'novo', 'é', 'bom', 'e', 'funciona', 'perfeitamente', 'ass', 'riot', 'games', 'e', 'verdade', 'esse', 'bilete']\n",
      "['@jessicaa0820', '@zore_riot', 'e', 'ainda', 'há', 'toda', 'uma', 'panóplia', 'de', 'expressões', '😂']\n",
      "['riot', 'me', 'deixa', 'comprar', 'coisa', 'por', 'ip,', '100k', 'de', 'ip', 'o', 'pacote,', 'eu', 'juro', 'q', 'eu', 'guardo']\n",
      "['rt', '@misticado', 'será', 'q', 'o', 'konai', 'fica', 'triste', 'ouvindo', 'as', 'música', 'do', 'konai']\n",
      "['gostei', 'de', 'um', 'vídeo', '@youtube', 'https', 't', 'co', '4pg15veytg', 'riot', 'games', '!']\n",
      "['riot', 'enfia', 'a', 'opção', 'de', 'relogar', 'no', 'cu']\n",
      "['gostei', 'de', 'um', 'vídeo', '@youtube', 'https', 't', 'co', 'pshvseywbe', 'riot', 'games', '!']\n",
      "['i', 'liked', 'a', '@youtube', 'video', 'https', 't', 'co', 'ifijtmy2rt', 'os', 'campeões', 'que', 'a', 'riot', 'desistiu', 'de', 'lançar']\n",
      "['@gratis150pdl', 'claro,', 'eles', 'pré', 'carregam', 'a', 'partida', 'durante', 'a', 'seleçao', 'de', 'campeao', 'nao', 'chegou', 'essa', 'tecnologia', 'na', 'riot']\n",
      "['gostei', 'de', 'um', 'vídeo', '@youtube', 'https', 't', 'co', 'su2f5kiqor', 'riot', 'games', '!']\n",
      "['rt', '@sorakaagressiva', 'mesmo', 'se', 'você', 'fizer', 'a', 'jogada', 'e', 'dar', 'todo', 'o', 'dano,', 'tem', 'que', 'deixar', 'o', 'abate', 'pro', 'atirador', 'ass', 'riot', 'games', 'ps', 'é', 'verdade', 'es…']\n",
      "['gostei', 'de', 'um', 'vídeo', '@youtube', 'https', 't', 'co', 'vdrji26xd4', 'campeões', 'que', 'a', 'riot', 'desistiu', 'de', 'lançar']\n",
      "['tava', 'lendo', 'sobre', 'as', 'mudanças', 'do', 'pbe', 'no', '@maisesportsbr', 'e', 'pensei', 'que', 'tivessem', 'colocado', 'os', 'mesmos', 'valores', 'duas', 'vezes,', 'mas', 'não,', 'a', 'riot', 'que', 'mudou', '5', 'de', 'dano', 'exclusivamente', 'no', 'rank', '3', 'de', 'uma', 'skill', 'aıosjfısajfoıalsjfoılsafsafasf', 'https', 't', 'co', '7t3rfpeezt']\n",
      "['rt', '@brasilgamespot', 'riot', 'games', 'anuncia', 'alterações', 'impactantes', 'no', '#lolzinho', 'https', 't', 'co', 'igkhpwi9fc', 'https', 't', 'co', 'l0djlworlc']\n",
      "['rt', '@idwsys', 'se', 'um', 'dia', 'eu', 'tiver', 'um', 'avc', 'pode', 'processar', 'a', 'riot', 'games', 'por', 'me', 'por', 'nesses', 'times', 'que', 'só', 'tem', 'imbecil']\n",
      "['tô', 'começando', 'a', 'achar', 'que', 'a', 'riot', 'games', 'contrata', 'umas', 'criança', 'como', 'funcionário']\n",
      "['rt', '@sincerojesuis', 'vc', 'nasceu', 'com', 'duas', 'mãos', 'custa', 'fazer', 'um', 'cafuné', 'nela']\n",
      "['kk', 'cansei,', 'juntei', 'td', 'q', 'tinha,', 'foda-se', 'também,', 'se', 'a', 'riot', 'for', 'estudar', 'o', 'caso', 'com', 'tudo', 'q', 'eu', 'mostrei', 'nego', 'vai', 'rodar', 'https', 't', 'co', 'dfvyrydysa']\n",
      "['eu', 'realmente', 'to', 'me', 'empenhando', 'pra', 'tentar', 'fazer', 'as', 'splashs', 'horríveis', 'da', 'leona', 'ficarem', 'boas', 'num', 'wallpaper,', 'vai', 'tomar', 'no', 'cu', 'riot', 'ajuda', 'nois']\n",
      "['gostei', 'de', 'um', 'vídeo', '@youtube', 'https', 't', 'co', '4ak2sfanum', 'riot', 'games', '!']\n",
      "['obrigado', 'vivo', 'e', 'riot']\n",
      "['partida', 'pra', 'ir', 'pra', 'md3', 'e', 'a', 'riot', 'resolve', 'que', 'eu', 'não', 'vou', 'conectar,', 'blz', 'po']\n",
      "['gostei', 'de', 'um', 'vídeo', '@youtube', 'https', 't', 'co', '6lpryvbvia', 'a', 'grana,', 'riot', 'corta', 'gastos', 'no', 'competitivo', 'caça', 'as', 'bruxas', 'certainlyt', 'na']\n",
      "['rt', '@laurittxk', 'a', 'esquerda', 'brasileira', 'tá', 'igual', 'aquela', 'cena', 'de', 'shrek', '2', 'do', 'jantar', 'no', 'castelo', 'ta', 'todo', 'mundo', 'na', 'mesa', 'gritando', 'um', 'pro', 'outro', '-', 'ci…']\n",
      "['gostei', 'de', 'um', 'vídeo', 'do', '@youtube', 'https', 't', 'co', 'b1jyxcknvj', 'obrigado', 'riot', 'games', '!']\n",
      "['servidores', 'da', 'riot', 'estão', 'sensacionais!!!', 'parabéns', 'riot', 'pelo', 'belo', 'desempenho!!!', '@riotgames']\n",
      "['@tiomalagueta01', 'não', 'sou', 'riot', 'mas', 'tô', 'ai', 'pra', 'ajudar', 'os', 'amigos', 'parei', 'huehuehuehueqqq']\n",
      "['bom', 'pra', 'quem', 'ficou', 'se', 'arrumando', 'a', 'manha', 'toda', 'ouvindo', 'a', 'musica', 'tema', 'das', 'sg,', 'boraaaa', 'riot', 'libera', 'essa', 'porra', 'logo', 'https', 't', 'co', 'ascolzv1zz']\n",
      "['@vitorlv1011', '@_luquinhaaaa', '@riyuuka_', '@danielsdesu', 'verdade,', 'a', 'blizzard', 'mostra', 'muito', 'mais', 'vontade', 'de', 'deixar', 'os', 'jogos', 'dela', 'bons', 'em', 'todos', 'os', 'aspectos,', 'ela', 'faz', 'check', 'up', 'nos', 'jogos', 'toda', 'semana,', 'confere', 'absolutamente', 'todos', 'os', 'reports', 'e', 'os', 'gms', 'são', 'super', 'prestativos,', 'a', 'única', 'coisa', 'em', 'que', 'a', 'riot', 'se', 'iguala', 'são', 'os', 'gms,', 'o', 'resto', 'é', 'bem', 'ruim']\n",
      "['por', 'isso', 'eu', 'não', 'acho', 'que', 'a', 'riot', 'deva', 'lançar', 'sg', 'malvadas,', 'sendo', 'as', 'que', 'eram', 'p', 'ser', 'boazinha', 'não', 'são', 'como', 'é', 'o', 'caso', 'do', 'segundo', 'time', 'tirando', 'a', 'soraka,', 'espero', 'que', 'a', 'riot', 'foque', 'mais', 'na', 'historia', 'da', 'primeira', 'estrela']\n",
      "['riot', 'por', 'favor', 'para', 'de', 'testar', 'minha', 'paciencia']\n",
      "['i', 'liked', 'a', '@youtube', 'video', 'https', 't', 'co', 'yazpoxlwbc', 'riot', 'anunciou', 'a', 'data', 'da', 'pré', 'temporada', 'e', 'lançamento', 'do', 'próximo', 'campeão!', 'a', 'maga']\n",
      "['i', 'liked', 'a', '@youtube', 'video', 'https', 't', 'co', 'iwfmbapkud', 'os', 'campeões', 'que', 'a', 'riot', 'desistiu', 'de', 'lançar']\n",
      "['eu', 'sou', 'fora', 'manuela', 'desde', 'sempre', '#masterchefbr']\n",
      "['rt', '@rmulekinn', '23', 'conto', 'pra', 'vim', 'so', '1380', 'rp', 'riot', 'e', 'marsenaria', 'demais', 'se', 'e', 'loco']\n",
      "['rt', '@lolegendsbr', 'os', 'desafios', 'para', 'uma', 'jornada', 'imortal', 'são', 'completamente', 'diferentes', 'do', 'que', 'qualquer', 'um', 'jamais', 'imaginou', 'mas,', 'talon', 'e', 'irelia…']\n",
      "['lógica', 'da', 'riot', 'games', '-', 'coloquei', 'top', 'mid;', '-', 'caio', 'botlane', 'fk', 'de', 'logic']\n",
      "['i', 'liked', 'a', '@youtube', 'video', 'https', 't', 'co', '1uxe9e7qcq', 'riot', 'anunciou', 'a', 'data', 'da', 'pré', 'temporada', 'e', 'lançamento', 'do', 'próximo', 'campeão!', 'a', 'maga']\n",
      "['i', 'liked', 'a', '@youtube', 'video', 'https', 't', 'co', 'vev36hgks5', 'riot', 'anunciou', 'a', 'data', 'da', 'pré', 'temporada', 'e', 'lançamento', 'do', 'próximo', 'campeão!', 'a', 'maga']\n",
      "['rt', '@sorakaagressiva', 'mesmo', 'se', 'você', 'fizer', 'a', 'jogada', 'e', 'dar', 'todo', 'o', 'dano,', 'tem', 'que', 'deixar', 'o', 'abate', 'pro', 'atirador', 'ass', 'riot', 'games', 'ps', 'é', 'verdade', 'es…']\n",
      "['@lrelia_', '@pocbpok', 'tem', 'um', 'álbum', 'de', 'paramore', 'chamado', '\"riot!\",', 'na', 'hora', 'q', 'eu', 'li', 'rapidamente', 'meu', 'cérebro', 'deduziu', 'q', 'ele', 'tava', 'falando', 'mal', 'do', 'álbum,', 'eu', 'já', 'tava', 'xingando', 'toda', 'a', 'família', 'dele,', 'fazer', 'mol', 'textão', 'de', 'ofensas', 'q', 'ele', 'ia', 'chorar', 'de', 'noite']\n",
      "['mas', 'um', 'dia', 'em', 'que', 'eu', 'sou', 'obrigada', 'a', 'abrir', 'ticket', 'na', 'riot', 'por', 'discurso', 'de', 'ódio', 'dos', 'players']\n"
     ]
    }
   ],
   "source": [
    "for i in df.Treinamento:\n",
    "    print(i)"
   ]
  },
  {
   "cell_type": "markdown",
   "metadata": {},
   "source": [
    "___\n",
    "## Verificando a performance\n",
    "\n",
    "Agora você deve testar o seu Classificador com a base de Testes.<br /><br /> \n",
    "\n",
    "Você deve extrair as seguintes medidas:\n",
    "* Porcentagem de positivos falsos (marcados como relevante mas não são relevantes)\n",
    "* Porcentagem de positivos verdadeiros (marcado como relevante e são relevantes)\n",
    "* Porcentagem de negativos verdadeiros (marcado como não relevante e não são relevantes)\n",
    "* Porcentagem de negativos falsos (marcado como não relevante e são relevantes)\n",
    "\n",
    "Obrigatório para grupos de 3 alunos:\n",
    "* Criar categorias intermediárias de relevância baseado na diferença de probabilidades. Exemplo: muito relevante, relevante, neutro, irrelevante e muito irrelevante."
   ]
  },
  {
   "cell_type": "code",
   "execution_count": null,
   "metadata": {
    "collapsed": true
   },
   "outputs": [],
   "source": []
  },
  {
   "cell_type": "code",
   "execution_count": null,
   "metadata": {
    "collapsed": true,
    "scrolled": true
   },
   "outputs": [],
   "source": []
  },
  {
   "cell_type": "markdown",
   "metadata": {},
   "source": [
    "___\n",
    "## Concluindo\n",
    "\n",
    "Escreva aqui a sua conclusão.<br /> \n",
    "Faça um comparativo qualitativo sobre as medidas obtidas.<br />\n",
    "Explique como são tratadas as mensagens com dupla negação e sarcasmo.<br />\n",
    "Proponha um plano de expansão. Por que eles devem continuar financiando o seu projeto?<br />\n",
    "\n",
    "Opcionalmente: \n",
    "* Discorrer por que não posso alimentar minha base de Treinamento automaticamente usando o próprio classificador, aplicado a novos tweets.\n",
    "* Propor diferentes cenários de uso para o classificador Naive-Bayes. Cenários sem intersecção com este projeto.\n",
    "* Sugerir e explicar melhorias reais no classificador com indicações concretas de como implementar (não é preciso codificar, mas indicar como fazer e material de pesquisa sobre o assunto).\n"
   ]
  },
  {
   "cell_type": "code",
   "execution_count": null,
   "metadata": {
    "collapsed": true
   },
   "outputs": [],
   "source": []
  }
 ],
 "metadata": {
  "kernelspec": {
   "display_name": "Python 3",
   "language": "python",
   "name": "python3"
  },
  "language_info": {
   "codemirror_mode": {
    "name": "ipython",
    "version": 3
   },
   "file_extension": ".py",
   "mimetype": "text/x-python",
   "name": "python",
   "nbconvert_exporter": "python",
   "pygments_lexer": "ipython3",
   "version": "3.6.0"
  }
 },
 "nbformat": 4,
 "nbformat_minor": 2
}
