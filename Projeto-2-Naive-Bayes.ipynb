{
 "cells": [
  {
   "cell_type": "markdown",
   "metadata": {},
   "source": [
    "# Projeto 2 - Classificador Automático de Sentimento\n",
    "\n",
    "Integrantes:Lucas Leal Vale, Matheus Augusto Soares, Rafael Almada\n",
    "\n",
    "Você foi contratado por uma empresa parar analisar como os clientes estão reagindo a um determinado produto no Twitter. A empresa deseja que você crie um programa que irá analisar as mensagens disponíveis e classificará como \"relevante\" ou \"irrelevante\". Com isso ela deseja que mensagens negativas, que denigrem o nome do produto, ou que mereçam destaque, disparem um foco de atenção da área de marketing.<br /><br />\n",
    "Como aluno de Ciência dos Dados, você lembrou do Teorema de Bayes, mais especificamente do Classificador Naive-Bayes, que é largamente utilizado em filtros anti-spam de e-mails. O classificador permite calcular qual a probabilidade de uma mensagem ser relevante dadas as palavras em seu conteúdo.<br /><br />\n",
    "Para realizar o MVP (*minimum viable product*) do projeto, você precisa implementar uma versão do classificador que \"aprende\" o que é relevante com uma base de treinamento e compara a performance dos resultados com uma base de testes.<br /><br />\n",
    "Após validado, o seu protótipo poderá também capturar e classificar automaticamente as mensagens da plataforma.\n",
    "\n",
    "## Informações do Projeto\n",
    "\n",
    "Prazo: 19/Set até às 23:59.<br />\n",
    "Grupo: 2 ou 3 pessoas - grupos com 3 pessoas terá uma rubrica diferenciada.<br /><br />\n",
    "Entregáveis via GitHub: \n",
    "* Arquivo notebook com o código do classificador, seguindo as orientações abaixo.\n",
    "* Arquivo Excel com as bases de treinamento e teste totalmente classificado.\n",
    "\n",
    "**NÃO gravar a key do professor no arquivo**\n",
    "\n",
    "\n",
    "### Entrega Intermediária: Check 1 - APS 2\n",
    "\n",
    "Até o dia 10/Set às 23:59, xlsx deve estar no Github com as seguintes evidências: \n",
    "\n",
    "  * Produto escolhido.\n",
    "  * Arquivo Excel contendo a base de treinamento e a base de testes já classificadas.\n",
    "\n",
    "Sugestão de leitura:<br />\n",
    "https://monkeylearn.com/blog/practical-explanation-naive-bayes-classifier/"
   ]
  },
  {
   "cell_type": "code",
   "execution_count": null,
   "metadata": {
    "collapsed": true
   },
   "outputs": [],
   "source": []
  },
  {
   "cell_type": "markdown",
   "metadata": {},
   "source": [
    "___\n",
    "\n",
    "## Parte I - Adquirindo a Base de Dados\n",
    "\n",
    "Acessar o notebook **Projeto-2-Planilha** para realizar a coleta dos dados. O grupo deve classificar os dados coletados manualmente."
   ]
  },
  {
   "cell_type": "code",
   "execution_count": 1,
   "metadata": {
    "collapsed": true
   },
   "outputs": [],
   "source": [
    "%matplotlib inline\n",
    "import pandas as pd\n",
    "import matplotlib.pyplot as plt\n",
    "import numpy as np\n",
    "from scipy import stats"
   ]
  },
  {
   "cell_type": "code",
   "execution_count": 2,
   "metadata": {
    "collapsed": true
   },
   "outputs": [],
   "source": [
    "df=pd.read_excel('tweets_riot.xlsx','Treinamento',sep=',')\n",
    "dfTeste=pd.read_excel('teste.xlsx', 'Treinamento',sep=',')"
   ]
  },
  {
   "cell_type": "code",
   "execution_count": 3,
   "metadata": {
    "collapsed": true
   },
   "outputs": [],
   "source": [
    "lista1=['  ','   ',':','(',')','`','[',']','.','/','\" ',\"'\"]\n",
    "lista2=[' ',' ',' ',' ',' ',' ',' ',' ',' ',' ',' ',' ']\n",
    "for i in range(len(lista1)):\n",
    "    df['Treinamento']=df.Treinamento.str.replace(lista1[i], lista2[i])\n",
    "df['Treinamento']=df.Treinamento.str.lower()"
   ]
  },
  {
   "cell_type": "code",
   "execution_count": 4,
   "metadata": {
    "collapsed": false
   },
   "outputs": [
    {
     "data": {
      "text/html": [
       "<div>\n",
       "<table border=\"1\" class=\"dataframe\">\n",
       "  <thead>\n",
       "    <tr style=\"text-align: right;\">\n",
       "      <th></th>\n",
       "      <th>Treinamento</th>\n",
       "      <th>Classificação</th>\n",
       "      <th>Legenda</th>\n",
       "    </tr>\n",
       "  </thead>\n",
       "  <tbody>\n",
       "    <tr>\n",
       "      <th>0</th>\n",
       "      <td>[n, é, pq, eu, tô, com, uma, crush, imensa, nã...</td>\n",
       "      <td>0</td>\n",
       "      <td>0 - IRRELEVANTE</td>\n",
       "    </tr>\n",
       "    <tr>\n",
       "      <th>1</th>\n",
       "      <td>[rt, @favstommo, ai, cansei, de, viver, mas, n...</td>\n",
       "      <td>1</td>\n",
       "      <td>1 - RUIM</td>\n",
       "    </tr>\n",
       "    <tr>\n",
       "      <th>2</th>\n",
       "      <td>[@carlosruaror, consegui,, riot, me, enviou, o...</td>\n",
       "      <td>2</td>\n",
       "      <td>2 - BOM</td>\n",
       "    </tr>\n",
       "    <tr>\n",
       "      <th>3</th>\n",
       "      <td>[riot, fala, assim, mesmo, rs, https, t, co, r...</td>\n",
       "      <td>2</td>\n",
       "      <td>NaN</td>\n",
       "    </tr>\n",
       "    <tr>\n",
       "      <th>4</th>\n",
       "      <td>[rt, @saradocinzas, aaaaaaaaaaaaa, vai, toma, ...</td>\n",
       "      <td>0</td>\n",
       "      <td>NaN</td>\n",
       "    </tr>\n",
       "  </tbody>\n",
       "</table>\n",
       "</div>"
      ],
      "text/plain": [
       "                                         Treinamento  Classificação  \\\n",
       "0  [n, é, pq, eu, tô, com, uma, crush, imensa, nã...              0   \n",
       "1  [rt, @favstommo, ai, cansei, de, viver, mas, n...              1   \n",
       "2  [@carlosruaror, consegui,, riot, me, enviou, o...              2   \n",
       "3  [riot, fala, assim, mesmo, rs, https, t, co, r...              2   \n",
       "4  [rt, @saradocinzas, aaaaaaaaaaaaa, vai, toma, ...              0   \n",
       "\n",
       "           Legenda  \n",
       "0  0 - IRRELEVANTE  \n",
       "1         1 - RUIM  \n",
       "2          2 - BOM  \n",
       "3              NaN  \n",
       "4              NaN  "
      ]
     },
     "execution_count": 4,
     "metadata": {},
     "output_type": "execute_result"
    }
   ],
   "source": [
    "df['Treinamento']=df['Treinamento'].str.split()\n",
    "df.head()"
   ]
  },
  {
   "cell_type": "code",
   "execution_count": null,
   "metadata": {
    "collapsed": true
   },
   "outputs": [],
   "source": []
  },
  {
   "cell_type": "markdown",
   "metadata": {},
   "source": [
    "___\n",
    "## Parte II - Montando o Classificador Naive-Bayes\n",
    "\n",
    "Com a base de treinamento montada, comece a desenvolver o classificador. Não se esqueça de implementar o Laplace Smoothing (https://en.wikipedia.org/wiki/Laplace_smoothing).\n",
    "\n",
    "Opcionalmente: \n",
    "* Limpar as mensagens removendo os caracteres: enter, :, \", ', (, ), etc. Não remover emojis.<br />\n",
    "* Corrigir separação de espaços entre palavras e/ou emojis.\n",
    "* Propor outras limpezas/transformações que não afetem a qualidade da informação.\n",
    "\n",
    "Escreva o seu código abaixo:"
   ]
  },
  {
   "cell_type": "code",
   "execution_count": 5,
   "metadata": {
    "collapsed": true
   },
   "outputs": [],
   "source": [
    "dfLen=len(df)\n",
    "\n",
    "dfBom=df[df['Classificação']==2]\n",
    "dfBomLen=len(dfBom)\n",
    "\n",
    "dfRuim=df[df['Classificação']==1]\n",
    "dfRuimLen=len(dfRuim)\n",
    "\n",
    "dfIrre=df[df['Classificação']==0]\n",
    "dfIrreLen=len(dfIrre)\n",
    "tw=dfBom[\"Treinamento\"][2]\n"
   ]
  },
  {
   "cell_type": "code",
   "execution_count": 6,
   "metadata": {
    "collapsed": true
   },
   "outputs": [],
   "source": [
    "# # Probabilidades base\n",
    "# ProbBom=len(dfBom)/(dfLen)\n",
    "# ProbRuim=len(dfRuim)/(dfLen)\n",
    "# ProbIrre=len(dfIrre)/(dfLen)\n",
    "# print('A probablidade de ser Bom  é:{0}'.format(ProbBom))\n",
    "# print('A probablidade de ser Ruim é:{0}'.format(ProbRuim))\n",
    "# print('A probablidade de ser Irre é:{0}'.format(ProbIrre))\n"
   ]
  },
  {
   "cell_type": "code",
   "execution_count": 7,
   "metadata": {
    "collapsed": false
   },
   "outputs": [
    {
     "data": {
      "text/plain": [
       "riot     79\n",
       "a        67\n",
       "co       62\n",
       "t        62\n",
       "https    62\n",
       "dtype: int64"
      ]
     },
     "execution_count": 7,
     "metadata": {},
     "output_type": "execute_result"
    }
   ],
   "source": [
    "dfBomProb=dfBom[\"Treinamento\"].sum()\n",
    "dfBomProb=pd.Series(dfBomProb)\n",
    "dfBomProb=dfBomProb.value_counts()\n",
    "dfBomProb.head(5)"
   ]
  },
  {
   "cell_type": "code",
   "execution_count": 8,
   "metadata": {
    "collapsed": false
   },
   "outputs": [
    {
     "data": {
      "text/plain": [
       "riot    98\n",
       "a       68\n",
       "que     63\n",
       "e       60\n",
       "o       60\n",
       "dtype: int64"
      ]
     },
     "execution_count": 8,
     "metadata": {},
     "output_type": "execute_result"
    }
   ],
   "source": [
    "dfRuimProb=dfRuim[\"Treinamento\"].sum()\n",
    "dfRuimProb=pd.Series(dfRuimProb)\n",
    "dfRuimProb=dfRuimProb.value_counts()\n",
    "dfRuimProb.head(5)"
   ]
  },
  {
   "cell_type": "code",
   "execution_count": 9,
   "metadata": {
    "collapsed": false,
    "scrolled": true
   },
   "outputs": [
    {
     "data": {
      "text/plain": [
       "de     49\n",
       "rt     41\n",
       "que    37\n",
       "o      29\n",
       "eu     27\n",
       "dtype: int64"
      ]
     },
     "execution_count": 9,
     "metadata": {},
     "output_type": "execute_result"
    }
   ],
   "source": [
    "dfIrreProb=dfIrre[\"Treinamento\"].sum()\n",
    "dfIrreProb=pd.Series(dfIrreProb)\n",
    "dfIrreProb=dfIrreProb.value_counts()\n",
    "dfIrreProb.head(5)"
   ]
  },
  {
   "cell_type": "code",
   "execution_count": 10,
   "metadata": {
    "collapsed": false,
    "scrolled": true
   },
   "outputs": [
    {
     "data": {
      "text/plain": [
       "riot    190\n",
       "a       160\n",
       "de      143\n",
       "que     129\n",
       "e       109\n",
       "dtype: int64"
      ]
     },
     "execution_count": 10,
     "metadata": {},
     "output_type": "execute_result"
    }
   ],
   "source": [
    "dfTotal=df.Treinamento.sum()\n",
    "dfTotal=pd.Series(dfTotal)\n",
    "dfTotal=dfTotal.value_counts()\n",
    "dfTotal.head()"
   ]
  },
  {
   "cell_type": "code",
   "execution_count": 11,
   "metadata": {
    "collapsed": false
   },
   "outputs": [
    {
     "data": {
      "text/plain": [
       "5523"
      ]
     },
     "execution_count": 11,
     "metadata": {},
     "output_type": "execute_result"
    }
   ],
   "source": [
    "dfPalavras=df.Treinamento.sum()\n",
    "dfPalavras=pd.Series(dfPalavras)\n",
    "dfPalavras=len(dfPalavras)\n",
    "dfPalavras"
   ]
  },
  {
   "cell_type": "code",
   "execution_count": 12,
   "metadata": {
    "collapsed": false
   },
   "outputs": [
    {
     "data": {
      "text/plain": [
       "1585"
      ]
     },
     "execution_count": 12,
     "metadata": {},
     "output_type": "execute_result"
    }
   ],
   "source": [
    "BoasPalavras=dfBom[\"Treinamento\"].sum()\n",
    "BoasPalavras=pd.Series(BoasPalavras)\n",
    "BoasPalavras=len(BoasPalavras)\n",
    "BoasPalavras"
   ]
  },
  {
   "cell_type": "code",
   "execution_count": 13,
   "metadata": {
    "collapsed": false
   },
   "outputs": [
    {
     "data": {
      "text/plain": [
       "2184"
      ]
     },
     "execution_count": 13,
     "metadata": {},
     "output_type": "execute_result"
    }
   ],
   "source": [
    "RuimPalavras=dfRuim[\"Treinamento\"].sum()\n",
    "RuimPalavras=pd.Series(RuimPalavras)\n",
    "RuimPalavras=len(RuimPalavras)\n",
    "RuimPalavras"
   ]
  },
  {
   "cell_type": "code",
   "execution_count": 14,
   "metadata": {
    "collapsed": false
   },
   "outputs": [
    {
     "data": {
      "text/plain": [
       "1754"
      ]
     },
     "execution_count": 14,
     "metadata": {},
     "output_type": "execute_result"
    }
   ],
   "source": [
    "IrrePalavras=dfIrre[\"Treinamento\"].sum()\n",
    "IrrePalavras=pd.Series(IrrePalavras)\n",
    "IrrePalavras=len(IrrePalavras)\n",
    "IrrePalavras"
   ]
  },
  {
   "cell_type": "code",
   "execution_count": 15,
   "metadata": {
    "collapsed": false
   },
   "outputs": [
    {
     "name": "stdout",
     "output_type": "stream",
     "text": [
      "A probablidade de ser Bom  é:0.2869817128372261\n",
      "A probablidade de ser Ruim é:0.39543726235741444\n",
      "A probablidade de ser Irre é:0.3175810248053594\n"
     ]
    }
   ],
   "source": [
    "# Probabilidades base\n",
    "ProbBom=BoasPalavras/(dfPalavras)\n",
    "ProbRuim=RuimPalavras/(dfPalavras)\n",
    "ProbIrre=IrrePalavras/(dfPalavras)\n",
    "print('A probablidade de ser Bom  é:{0}'.format(ProbBom))\n",
    "print('A probablidade de ser Ruim é:{0}'.format(ProbRuim))\n",
    "print('A probablidade de ser Irre é:{0}'.format(ProbIrre))"
   ]
  },
  {
   "cell_type": "code",
   "execution_count": 16,
   "metadata": {
    "collapsed": false
   },
   "outputs": [
    {
     "data": {
      "text/plain": [
       "riot     0.033571\n",
       "a        0.028535\n",
       "co       0.026437\n",
       "t        0.026437\n",
       "https    0.026437\n",
       "dtype: float64"
      ]
     },
     "execution_count": 16,
     "metadata": {},
     "output_type": "execute_result"
    }
   ],
   "source": [
    "#Calculando as probabilidades base\n",
    "#Prob palavra/bom\n",
    "dfBomProb2=(dfBomProb+1)/(len(dfBomProb)+len(dfTotal))\n",
    "#Prob palavra/ruim\n",
    "dfRuimProb2=(dfRuimProb+1)/(len(dfRuimProb)+len(dfTotal))\n",
    "#Prob palavra/irrelevante\n",
    "dfIrreProb2=(dfIrreProb+1)/(len(dfIrreProb)+len(dfTotal))\n",
    "dfBomProb2.head(5)"
   ]
  },
  {
   "cell_type": "code",
   "execution_count": null,
   "metadata": {
    "collapsed": true
   },
   "outputs": [],
   "source": []
  },
  {
   "cell_type": "code",
   "execution_count": 17,
   "metadata": {
    "collapsed": true
   },
   "outputs": [],
   "source": [
    "# for i in df.Treinamento:\n",
    "#     for u in i:\n",
    "#         print(\"u: \", u)\n",
    "#         print(\"dft u:\", dfTotal[u])\n"
   ]
  },
  {
   "cell_type": "code",
   "execution_count": 18,
   "metadata": {
    "collapsed": true
   },
   "outputs": [],
   "source": [
    "resultado=[]"
   ]
  },
  {
   "cell_type": "code",
   "execution_count": 19,
   "metadata": {
    "collapsed": true,
    "scrolled": false
   },
   "outputs": [],
   "source": [
    "def bayes(df,dfPalavras,lista):\n",
    "  \n",
    "    laplace=(1/(dfPalavras))# obs da folha\n",
    "    for i in df: # for i in df.index:\n",
    "        c_bom=1\n",
    "        c_ruim=1\n",
    "        c_irre=1\n",
    "        for u in i:\n",
    "            #p=dfTotal[u]/len(dfTotal) #(Probabilidade da palavra no espaço amostral de todas as palavras)\n",
    "            if u not in dfBomProb2:\n",
    "                p_bom=laplace\n",
    "            else:\n",
    "                p_bom=dfBomProb2[u]\n",
    "            if u not in dfRuimProb2:\n",
    "                p_ruim=laplace\n",
    "            else:\n",
    "                p_ruim=dfRuimProb2[u]\n",
    "            if u not in dfIrreProb2:\n",
    "                p_irre=laplace\n",
    "            else:\n",
    "                p_irre=dfIrreProb2[u]\n",
    "                \n",
    "            c_bom*=(p_bom)\n",
    "            c_ruim*=(p_ruim)\n",
    "            c_irre*=(p_irre)\n",
    "        c_bom=c_bom*(ProbBom)\n",
    "        #print(\"c_bom:\",c_bom)\n",
    "        c_ruim=c_ruim*(ProbRuim)\n",
    "        #print(\"c_ruim:\",c_ruim)\n",
    "        c_irre=c_irre*(ProbIrre)\n",
    "        #print(\"c_irre:\",c_irre)\n",
    "\n",
    "        if c_bom>c_ruim and c_bom>c_irre:\n",
    "            #Classifica como Bom (2)\n",
    "            lista.append(2)\n",
    "\n",
    "        elif c_ruim>c_bom and c_ruim>c_irre:\n",
    "            #Classifica como Ruim (1)\n",
    "            lista.append(1)\n",
    "            \n",
    "        else:# c_irre>c_bom and c_irre>c_ruim:\n",
    "            #Classifica como Irrelevante (0) \n",
    "            lista.append(0)\n",
    "    return lista"
   ]
  },
  {
   "cell_type": "code",
   "execution_count": 20,
   "metadata": {
    "collapsed": true
   },
   "outputs": [],
   "source": [
    "a=bayes(df[\"Treinamento\"],dfPalavras,resultado)"
   ]
  },
  {
   "cell_type": "code",
   "execution_count": 21,
   "metadata": {
    "collapsed": false
   },
   "outputs": [
    {
     "name": "stdout",
     "output_type": "stream",
     "text": [
      "300\n",
      "[0, 1, 2, 2, 0, 0, 0, 2, 0, 2, 2, 2, 1, 1, 2, 0, 2, 0, 2, 1, 1, 0, 0, 2, 0, 1, 2, 1, 0, 2, 1, 1, 0, 1, 2, 0, 0, 0, 2, 1, 0, 2, 1, 1, 2, 0, 1, 0, 0, 1, 0, 1, 0, 0, 1, 1, 2, 1, 1, 0, 0, 0, 0, 2, 0, 0, 1, 2, 1, 2, 2, 0, 1, 0, 0, 0, 1, 1, 0, 1, 0, 2, 1, 0, 0, 2, 1, 0, 2, 2, 2, 0, 1, 0, 0, 0, 0, 0, 1, 2, 2, 2, 0, 2, 1, 1, 2, 1, 1, 0, 1, 0, 1, 2, 0, 0, 2, 0, 1, 1, 1, 0, 1, 2, 2, 2, 0, 2, 2, 0, 1, 0, 0, 2, 2, 2, 0, 1, 1, 0, 0, 0, 0, 2, 1, 2, 0, 1, 1, 1, 1, 1, 1, 2, 2, 1, 0, 1, 2, 1, 1, 1, 0, 0, 1, 2, 1, 1, 2, 1, 0, 1, 2, 2, 2, 1, 0, 0, 2, 1, 2, 0, 1, 0, 1, 1, 2, 0, 2, 0, 2, 1, 0, 1, 0, 1, 1, 0, 0, 1, 1, 0, 1, 2, 1, 2, 2, 0, 2, 0, 1, 1, 1, 0, 1, 2, 0, 1, 0, 0, 0, 2, 2, 2, 2, 0, 0, 1, 0, 0, 0, 2, 0, 0, 2, 1, 1, 2, 0, 2, 1, 2, 0, 1, 0, 0, 0, 1, 1, 1, 1, 0, 2, 0, 0, 1, 0, 2, 1, 0, 2, 0, 2, 1, 2, 2, 1, 2, 1, 2, 1, 2, 1, 1, 0, 2, 2, 2, 1, 1, 2, 0, 2, 2, 0, 2, 1, 1, 1, 2, 2, 0, 1, 2, 1, 2, 2, 1, 0, 1]\n"
     ]
    }
   ],
   "source": [
    "print(len(resultado))\n",
    "print(a)"
   ]
  },
  {
   "cell_type": "code",
   "execution_count": 22,
   "metadata": {
    "collapsed": true
   },
   "outputs": [],
   "source": [
    "df[\"Resultado\"]=a"
   ]
  },
  {
   "cell_type": "code",
   "execution_count": 23,
   "metadata": {
    "collapsed": false
   },
   "outputs": [
    {
     "data": {
      "text/html": [
       "<div>\n",
       "<table border=\"1\" class=\"dataframe\">\n",
       "  <thead>\n",
       "    <tr style=\"text-align: right;\">\n",
       "      <th></th>\n",
       "      <th>Treinamento</th>\n",
       "      <th>Classificação</th>\n",
       "      <th>Legenda</th>\n",
       "      <th>Resultado</th>\n",
       "    </tr>\n",
       "  </thead>\n",
       "  <tbody>\n",
       "    <tr>\n",
       "      <th>0</th>\n",
       "      <td>[n, é, pq, eu, tô, com, uma, crush, imensa, nã...</td>\n",
       "      <td>0</td>\n",
       "      <td>0 - IRRELEVANTE</td>\n",
       "      <td>0</td>\n",
       "    </tr>\n",
       "    <tr>\n",
       "      <th>1</th>\n",
       "      <td>[rt, @favstommo, ai, cansei, de, viver, mas, n...</td>\n",
       "      <td>1</td>\n",
       "      <td>1 - RUIM</td>\n",
       "      <td>1</td>\n",
       "    </tr>\n",
       "    <tr>\n",
       "      <th>2</th>\n",
       "      <td>[@carlosruaror, consegui,, riot, me, enviou, o...</td>\n",
       "      <td>2</td>\n",
       "      <td>2 - BOM</td>\n",
       "      <td>2</td>\n",
       "    </tr>\n",
       "    <tr>\n",
       "      <th>3</th>\n",
       "      <td>[riot, fala, assim, mesmo, rs, https, t, co, r...</td>\n",
       "      <td>2</td>\n",
       "      <td>NaN</td>\n",
       "      <td>2</td>\n",
       "    </tr>\n",
       "    <tr>\n",
       "      <th>4</th>\n",
       "      <td>[rt, @saradocinzas, aaaaaaaaaaaaa, vai, toma, ...</td>\n",
       "      <td>0</td>\n",
       "      <td>NaN</td>\n",
       "      <td>0</td>\n",
       "    </tr>\n",
       "  </tbody>\n",
       "</table>\n",
       "</div>"
      ],
      "text/plain": [
       "                                         Treinamento  Classificação  \\\n",
       "0  [n, é, pq, eu, tô, com, uma, crush, imensa, nã...              0   \n",
       "1  [rt, @favstommo, ai, cansei, de, viver, mas, n...              1   \n",
       "2  [@carlosruaror, consegui,, riot, me, enviou, o...              2   \n",
       "3  [riot, fala, assim, mesmo, rs, https, t, co, r...              2   \n",
       "4  [rt, @saradocinzas, aaaaaaaaaaaaa, vai, toma, ...              0   \n",
       "\n",
       "           Legenda  Resultado  \n",
       "0  0 - IRRELEVANTE          0  \n",
       "1         1 - RUIM          1  \n",
       "2          2 - BOM          2  \n",
       "3              NaN          2  \n",
       "4              NaN          0  "
      ]
     },
     "execution_count": 23,
     "metadata": {},
     "output_type": "execute_result"
    }
   ],
   "source": [
    "df.head()"
   ]
  },
  {
   "cell_type": "markdown",
   "metadata": {},
   "source": [
    "___\n",
    "## Verificando a performance\n",
    "\n",
    "Agora você deve testar o seu Classificador com a base de Testes.<br /><br /> \n",
    "\n",
    "Você deve extrair as seguintes medidas:\n",
    "* Porcentagem de positivos falsos (marcados como relevante mas não são relevantes)\n",
    "* Porcentagem de positivos verdadeiros (marcado como relevante e são relevantes)\n",
    "* Porcentagem de negativos verdadeiros (marcado como não relevante e não são relevantes)\n",
    "* Porcentagem de negativos falsos (marcado como não relevante e são relevantes)\n",
    "\n",
    "Obrigatório para grupos de 3 alunos:\n",
    "* Criar categorias intermediárias de relevância baseado na diferença de probabilidades. Exemplo: muito relevante, relevante, neutro, irrelevante e muito irrelevante."
   ]
  },
  {
   "cell_type": "code",
   "execution_count": 24,
   "metadata": {
    "collapsed": false
   },
   "outputs": [],
   "source": [
    "r=[]\n",
    "b=bayes(dfTeste['Treinamento'],dfPalavras,r)\n",
    "dfTeste['Resultado']=b"
   ]
  },
  {
   "cell_type": "code",
   "execution_count": 25,
   "metadata": {
    "collapsed": false,
    "scrolled": true
   },
   "outputs": [
    {
     "data": {
      "text/html": [
       "<div>\n",
       "<table border=\"1\" class=\"dataframe\">\n",
       "  <thead>\n",
       "    <tr style=\"text-align: right;\">\n",
       "      <th></th>\n",
       "      <th>Treinamento</th>\n",
       "      <th>Classificação</th>\n",
       "      <th>Legenda</th>\n",
       "      <th>Resultado</th>\n",
       "    </tr>\n",
       "  </thead>\n",
       "  <tbody>\n",
       "    <tr>\n",
       "      <th>0</th>\n",
       "      <td>gostei de um vídeo @youtube https://t.co/4oilk...</td>\n",
       "      <td>2.0</td>\n",
       "      <td>0 - IRRELEVANTE</td>\n",
       "      <td>0</td>\n",
       "    </tr>\n",
       "    <tr>\n",
       "      <th>1</th>\n",
       "      <td>rt @lolesportsbr: \"senhor do meu destino mano,...</td>\n",
       "      <td>1.0</td>\n",
       "      <td>1 - RUIM</td>\n",
       "      <td>0</td>\n",
       "    </tr>\n",
       "    <tr>\n",
       "      <th>2</th>\n",
       "      <td>rt @ahsbrasil: sinopse ep. 01 - \"the end\"\\n\\nn...</td>\n",
       "      <td>0.0</td>\n",
       "      <td>2 - BOM</td>\n",
       "      <td>0</td>\n",
       "    </tr>\n",
       "    <tr>\n",
       "      <th>3</th>\n",
       "      <td>@yetz1 riot ta de sacanagem só pode, nunca viu...</td>\n",
       "      <td>2.0</td>\n",
       "      <td>NaN</td>\n",
       "      <td>1</td>\n",
       "    </tr>\n",
       "    <tr>\n",
       "      <th>4</th>\n",
       "      <td>@guilhermdw vc não tá entendendo, não é uma va...</td>\n",
       "      <td>2.0</td>\n",
       "      <td>NaN</td>\n",
       "      <td>0</td>\n",
       "    </tr>\n",
       "    <tr>\n",
       "      <th>5</th>\n",
       "      <td>riot cade meu rp</td>\n",
       "      <td>2.0</td>\n",
       "      <td>NaN</td>\n",
       "      <td>1</td>\n",
       "    </tr>\n",
       "    <tr>\n",
       "      <th>6</th>\n",
       "      <td>@giogrosso_dsr é o mid season invitational. ac...</td>\n",
       "      <td>2.0</td>\n",
       "      <td>NaN</td>\n",
       "      <td>0</td>\n",
       "    </tr>\n",
       "    <tr>\n",
       "      <th>7</th>\n",
       "      <td>riot muito sensata https://t.co/aixjlyvpyg</td>\n",
       "      <td>2.0</td>\n",
       "      <td>NaN</td>\n",
       "      <td>2</td>\n",
       "    </tr>\n",
       "    <tr>\n",
       "      <th>8</th>\n",
       "      <td>rt @yetz1: riot pensa em tanta coisa, pq não p...</td>\n",
       "      <td>2.0</td>\n",
       "      <td>NaN</td>\n",
       "      <td>0</td>\n",
       "    </tr>\n",
       "    <tr>\n",
       "      <th>9</th>\n",
       "      <td>riot eu to tentando parar de jogar pfvr colabo...</td>\n",
       "      <td>2.0</td>\n",
       "      <td>NaN</td>\n",
       "      <td>1</td>\n",
       "    </tr>\n",
       "    <tr>\n",
       "      <th>10</th>\n",
       "      <td>rt @jeannlx: as animação da riot sao tao linda...</td>\n",
       "      <td>2.0</td>\n",
       "      <td>NaN</td>\n",
       "      <td>1</td>\n",
       "    </tr>\n",
       "    <tr>\n",
       "      <th>11</th>\n",
       "      <td>rt @lolesportsbr: \"senhor do meu destino mano,...</td>\n",
       "      <td>0.0</td>\n",
       "      <td>NaN</td>\n",
       "      <td>0</td>\n",
       "    </tr>\n",
       "    <tr>\n",
       "      <th>12</th>\n",
       "      <td>rt @steinert_carol: ☄vocês querem sorteio de l...</td>\n",
       "      <td>0.0</td>\n",
       "      <td>NaN</td>\n",
       "      <td>0</td>\n",
       "    </tr>\n",
       "    <tr>\n",
       "      <th>13</th>\n",
       "      <td>rt @ighilya: @lolegendsbr obrigado riot por ma...</td>\n",
       "      <td>2.0</td>\n",
       "      <td>NaN</td>\n",
       "      <td>0</td>\n",
       "    </tr>\n",
       "    <tr>\n",
       "      <th>14</th>\n",
       "      <td>@__matheu @bluevi0let eu meixma 💁 me deixem afz</td>\n",
       "      <td>0.0</td>\n",
       "      <td>NaN</td>\n",
       "      <td>2</td>\n",
       "    </tr>\n",
       "    <tr>\n",
       "      <th>15</th>\n",
       "      <td>rt @perfectespirit: #segundadetremurasdv \\n\\nc...</td>\n",
       "      <td>0.0</td>\n",
       "      <td>NaN</td>\n",
       "      <td>0</td>\n",
       "    </tr>\n",
       "    <tr>\n",
       "      <th>16</th>\n",
       "      <td>- #lançamento -\\nvem #curtir o novo #clipe da ...</td>\n",
       "      <td>0.0</td>\n",
       "      <td>NaN</td>\n",
       "      <td>0</td>\n",
       "    </tr>\n",
       "    <tr>\n",
       "      <th>17</th>\n",
       "      <td>rt @sincerojesuis: maconha é só uma planta    ...</td>\n",
       "      <td>0.0</td>\n",
       "      <td>NaN</td>\n",
       "      <td>1</td>\n",
       "    </tr>\n",
       "    <tr>\n",
       "      <th>18</th>\n",
       "      <td>ate q enfim a riot cria uma skin decente pro m...</td>\n",
       "      <td>1.0</td>\n",
       "      <td>NaN</td>\n",
       "      <td>2</td>\n",
       "    </tr>\n",
       "    <tr>\n",
       "      <th>19</th>\n",
       "      <td>eu tinha dito que hj não riot\\nque merda https...</td>\n",
       "      <td>2.0</td>\n",
       "      <td>NaN</td>\n",
       "      <td>2</td>\n",
       "    </tr>\n",
       "    <tr>\n",
       "      <th>20</th>\n",
       "      <td>rt @yetz1: boa tarde mateus aqui é o h4h4h4  s...</td>\n",
       "      <td>2.0</td>\n",
       "      <td>NaN</td>\n",
       "      <td>0</td>\n",
       "    </tr>\n",
       "    <tr>\n",
       "      <th>21</th>\n",
       "      <td>vcs sabiam que vcs podem só não comprar as ski...</td>\n",
       "      <td>2.0</td>\n",
       "      <td>NaN</td>\n",
       "      <td>0</td>\n",
       "    </tr>\n",
       "    <tr>\n",
       "      <th>22</th>\n",
       "      <td>rt @steinert_carol: ☄vocês querem sorteio de l...</td>\n",
       "      <td>0.0</td>\n",
       "      <td>NaN</td>\n",
       "      <td>0</td>\n",
       "    </tr>\n",
       "    <tr>\n",
       "      <th>23</th>\n",
       "      <td>@kngsaliba @lolesportsbr riot \"comprou'? os di...</td>\n",
       "      <td>2.0</td>\n",
       "      <td>NaN</td>\n",
       "      <td>0</td>\n",
       "    </tr>\n",
       "    <tr>\n",
       "      <th>24</th>\n",
       "      <td>rt @yetz1: riot pensa em tanta coisa, pq não p...</td>\n",
       "      <td>2.0</td>\n",
       "      <td>NaN</td>\n",
       "      <td>0</td>\n",
       "    </tr>\n",
       "    <tr>\n",
       "      <th>25</th>\n",
       "      <td>temos incríveis 2 bruisers com mais de 50% de ...</td>\n",
       "      <td>2.0</td>\n",
       "      <td>NaN</td>\n",
       "      <td>2</td>\n",
       "    </tr>\n",
       "    <tr>\n",
       "      <th>26</th>\n",
       "      <td>2018 e a riot ainda n deu a porra de vu no mal...</td>\n",
       "      <td>2.0</td>\n",
       "      <td>NaN</td>\n",
       "      <td>1</td>\n",
       "    </tr>\n",
       "    <tr>\n",
       "      <th>27</th>\n",
       "      <td>oq eu acho top na riot é o seguinte:\\n\\neles m...</td>\n",
       "      <td>2.0</td>\n",
       "      <td>NaN</td>\n",
       "      <td>0</td>\n",
       "    </tr>\n",
       "    <tr>\n",
       "      <th>28</th>\n",
       "      <td>@bfgideon riot sentiu pena de mim</td>\n",
       "      <td>1.0</td>\n",
       "      <td>NaN</td>\n",
       "      <td>2</td>\n",
       "    </tr>\n",
       "    <tr>\n",
       "      <th>29</th>\n",
       "      <td>rt @papelpop: paramore aposenta misery busines...</td>\n",
       "      <td>0.0</td>\n",
       "      <td>NaN</td>\n",
       "      <td>0</td>\n",
       "    </tr>\n",
       "    <tr>\n",
       "      <th>...</th>\n",
       "      <td>...</td>\n",
       "      <td>...</td>\n",
       "      <td>...</td>\n",
       "      <td>...</td>\n",
       "    </tr>\n",
       "    <tr>\n",
       "      <th>669</th>\n",
       "      <td>concentre-se e defina a partida! a maioria dos...</td>\n",
       "      <td>2.0</td>\n",
       "      <td>NaN</td>\n",
       "      <td>0</td>\n",
       "    </tr>\n",
       "    <tr>\n",
       "      <th>670</th>\n",
       "      <td>rt @steinert_carol: ☄vocês querem sorteio de l...</td>\n",
       "      <td>0.0</td>\n",
       "      <td>NaN</td>\n",
       "      <td>0</td>\n",
       "    </tr>\n",
       "    <tr>\n",
       "      <th>671</th>\n",
       "      <td>riot lançando skin da sona quando eu não tenho...</td>\n",
       "      <td>2.0</td>\n",
       "      <td>NaN</td>\n",
       "      <td>1</td>\n",
       "    </tr>\n",
       "    <tr>\n",
       "      <th>672</th>\n",
       "      <td>@moondded eu exijo que a riot me de a skin do ...</td>\n",
       "      <td>2.0</td>\n",
       "      <td>NaN</td>\n",
       "      <td>1</td>\n",
       "    </tr>\n",
       "    <tr>\n",
       "      <th>673</th>\n",
       "      <td>parabens pelos efeitos mas vc cagaram na skin ...</td>\n",
       "      <td>1.0</td>\n",
       "      <td>NaN</td>\n",
       "      <td>0</td>\n",
       "    </tr>\n",
       "    <tr>\n",
       "      <th>674</th>\n",
       "      <td>rt @steinert_carol: ☄vocês querem sorteio de l...</td>\n",
       "      <td>0.0</td>\n",
       "      <td>NaN</td>\n",
       "      <td>0</td>\n",
       "    </tr>\n",
       "    <tr>\n",
       "      <th>675</th>\n",
       "      <td>mano eu n sei nem o que falar \\n\\nquer meu din...</td>\n",
       "      <td>2.0</td>\n",
       "      <td>NaN</td>\n",
       "      <td>1</td>\n",
       "    </tr>\n",
       "    <tr>\n",
       "      <th>676</th>\n",
       "      <td>@yetz1 a riot só estava te crucificando pra ma...</td>\n",
       "      <td>0.0</td>\n",
       "      <td>NaN</td>\n",
       "      <td>1</td>\n",
       "    </tr>\n",
       "    <tr>\n",
       "      <th>677</th>\n",
       "      <td>riot games consegue ter um atendimento agradáv...</td>\n",
       "      <td>2.0</td>\n",
       "      <td>NaN</td>\n",
       "      <td>1</td>\n",
       "    </tr>\n",
       "    <tr>\n",
       "      <th>678</th>\n",
       "      <td>porra, finalmente a riot fez algo empolgante</td>\n",
       "      <td>2.0</td>\n",
       "      <td>NaN</td>\n",
       "      <td>1</td>\n",
       "    </tr>\n",
       "    <tr>\n",
       "      <th>679</th>\n",
       "      <td>rt @pedrolapera: não quero perder por nada ess...</td>\n",
       "      <td>0.0</td>\n",
       "      <td>NaN</td>\n",
       "      <td>1</td>\n",
       "    </tr>\n",
       "    <tr>\n",
       "      <th>680</th>\n",
       "      <td>obg riot pelos mimos https://t.co/fzefecdt2z</td>\n",
       "      <td>2.0</td>\n",
       "      <td>NaN</td>\n",
       "      <td>1</td>\n",
       "    </tr>\n",
       "    <tr>\n",
       "      <th>681</th>\n",
       "      <td>papo reto demais, é mto bullshit não ter trans...</td>\n",
       "      <td>1.0</td>\n",
       "      <td>NaN</td>\n",
       "      <td>1</td>\n",
       "    </tr>\n",
       "    <tr>\n",
       "      <th>682</th>\n",
       "      <td>@steinert_carol @riot_entbr @daydreamstorebr @...</td>\n",
       "      <td>0.0</td>\n",
       "      <td>NaN</td>\n",
       "      <td>2</td>\n",
       "    </tr>\n",
       "    <tr>\n",
       "      <th>683</th>\n",
       "      <td>@kokinya_9 dibujame como quieras uou</td>\n",
       "      <td>0.0</td>\n",
       "      <td>NaN</td>\n",
       "      <td>2</td>\n",
       "    </tr>\n",
       "    <tr>\n",
       "      <th>684</th>\n",
       "      <td>rt @fodasemeuamigo: ser sensivel so eh bonito ...</td>\n",
       "      <td>0.0</td>\n",
       "      <td>NaN</td>\n",
       "      <td>0</td>\n",
       "    </tr>\n",
       "    <tr>\n",
       "      <th>685</th>\n",
       "      <td>@baianolol1 a riot ta no spec mano iuwhgeiuwhgiuh</td>\n",
       "      <td>2.0</td>\n",
       "      <td>NaN</td>\n",
       "      <td>2</td>\n",
       "    </tr>\n",
       "    <tr>\n",
       "      <th>686</th>\n",
       "      <td>rt @lolegendsbr: concentre-se e defina a parti...</td>\n",
       "      <td>2.0</td>\n",
       "      <td>NaN</td>\n",
       "      <td>0</td>\n",
       "    </tr>\n",
       "    <tr>\n",
       "      <th>687</th>\n",
       "      <td>rt @lolesportsbr: \"senhor do meu destino mano,...</td>\n",
       "      <td>0.0</td>\n",
       "      <td>NaN</td>\n",
       "      <td>0</td>\n",
       "    </tr>\n",
       "    <tr>\n",
       "      <th>688</th>\n",
       "      <td>rt @lolesportsbr: \"senhor do meu destino mano,...</td>\n",
       "      <td>0.0</td>\n",
       "      <td>NaN</td>\n",
       "      <td>0</td>\n",
       "    </tr>\n",
       "    <tr>\n",
       "      <th>689</th>\n",
       "      <td>rt @lolesportsbr: \"senhor do meu destino mano,...</td>\n",
       "      <td>0.0</td>\n",
       "      <td>NaN</td>\n",
       "      <td>0</td>\n",
       "    </tr>\n",
       "    <tr>\n",
       "      <th>690</th>\n",
       "      <td>riot fazendo mais uma skin pro yasuo 💤</td>\n",
       "      <td>2.0</td>\n",
       "      <td>NaN</td>\n",
       "      <td>1</td>\n",
       "    </tr>\n",
       "    <tr>\n",
       "      <th>691</th>\n",
       "      <td>koer\\nnesse novo evento da riot...oq q a dona ...</td>\n",
       "      <td>2.0</td>\n",
       "      <td>NaN</td>\n",
       "      <td>0</td>\n",
       "    </tr>\n",
       "    <tr>\n",
       "      <th>692</th>\n",
       "      <td>rt @_ccabeyo: mano, eu juro q se o pete tiver ...</td>\n",
       "      <td>0.0</td>\n",
       "      <td>NaN</td>\n",
       "      <td>0</td>\n",
       "    </tr>\n",
       "    <tr>\n",
       "      <th>693</th>\n",
       "      <td>a @kabumesports  é tricampeã no #cblol! que vi...</td>\n",
       "      <td>2.0</td>\n",
       "      <td>NaN</td>\n",
       "      <td>0</td>\n",
       "    </tr>\n",
       "    <tr>\n",
       "      <th>694</th>\n",
       "      <td>ódio a riot é mt debochada pqp https://t.co/xo...</td>\n",
       "      <td>1.0</td>\n",
       "      <td>NaN</td>\n",
       "      <td>1</td>\n",
       "    </tr>\n",
       "    <tr>\n",
       "      <th>695</th>\n",
       "      <td>rt @leodiprado: se tiver chuva de \"transmite r...</td>\n",
       "      <td>2.0</td>\n",
       "      <td>NaN</td>\n",
       "      <td>0</td>\n",
       "    </tr>\n",
       "    <tr>\n",
       "      <th>696</th>\n",
       "      <td>ainda bem que a riot inventou o graves jg</td>\n",
       "      <td>2.0</td>\n",
       "      <td>NaN</td>\n",
       "      <td>2</td>\n",
       "    </tr>\n",
       "    <tr>\n",
       "      <th>697</th>\n",
       "      <td>rt @galfilol: gente nem a riot nem a keyd paga...</td>\n",
       "      <td>2.0</td>\n",
       "      <td>NaN</td>\n",
       "      <td>0</td>\n",
       "    </tr>\n",
       "    <tr>\n",
       "      <th>698</th>\n",
       "      <td>rt @aguinaldinho: sandy foi questionada sobre ...</td>\n",
       "      <td>0.0</td>\n",
       "      <td>NaN</td>\n",
       "      <td>0</td>\n",
       "    </tr>\n",
       "  </tbody>\n",
       "</table>\n",
       "<p>699 rows × 4 columns</p>\n",
       "</div>"
      ],
      "text/plain": [
       "                                           Treinamento  Classificação  \\\n",
       "0    gostei de um vídeo @youtube https://t.co/4oilk...            2.0   \n",
       "1    rt @lolesportsbr: \"senhor do meu destino mano,...            1.0   \n",
       "2    rt @ahsbrasil: sinopse ep. 01 - \"the end\"\\n\\nn...            0.0   \n",
       "3    @yetz1 riot ta de sacanagem só pode, nunca viu...            2.0   \n",
       "4    @guilhermdw vc não tá entendendo, não é uma va...            2.0   \n",
       "5                                     riot cade meu rp            2.0   \n",
       "6    @giogrosso_dsr é o mid season invitational. ac...            2.0   \n",
       "7           riot muito sensata https://t.co/aixjlyvpyg            2.0   \n",
       "8    rt @yetz1: riot pensa em tanta coisa, pq não p...            2.0   \n",
       "9    riot eu to tentando parar de jogar pfvr colabo...            2.0   \n",
       "10   rt @jeannlx: as animação da riot sao tao linda...            2.0   \n",
       "11   rt @lolesportsbr: \"senhor do meu destino mano,...            0.0   \n",
       "12   rt @steinert_carol: ☄vocês querem sorteio de l...            0.0   \n",
       "13   rt @ighilya: @lolegendsbr obrigado riot por ma...            2.0   \n",
       "14     @__matheu @bluevi0let eu meixma 💁 me deixem afz            0.0   \n",
       "15   rt @perfectespirit: #segundadetremurasdv \\n\\nc...            0.0   \n",
       "16   - #lançamento -\\nvem #curtir o novo #clipe da ...            0.0   \n",
       "17   rt @sincerojesuis: maconha é só uma planta    ...            0.0   \n",
       "18   ate q enfim a riot cria uma skin decente pro m...            1.0   \n",
       "19   eu tinha dito que hj não riot\\nque merda https...            2.0   \n",
       "20   rt @yetz1: boa tarde mateus aqui é o h4h4h4  s...            2.0   \n",
       "21   vcs sabiam que vcs podem só não comprar as ski...            2.0   \n",
       "22   rt @steinert_carol: ☄vocês querem sorteio de l...            0.0   \n",
       "23   @kngsaliba @lolesportsbr riot \"comprou'? os di...            2.0   \n",
       "24   rt @yetz1: riot pensa em tanta coisa, pq não p...            2.0   \n",
       "25   temos incríveis 2 bruisers com mais de 50% de ...            2.0   \n",
       "26   2018 e a riot ainda n deu a porra de vu no mal...            2.0   \n",
       "27   oq eu acho top na riot é o seguinte:\\n\\neles m...            2.0   \n",
       "28                   @bfgideon riot sentiu pena de mim            1.0   \n",
       "29   rt @papelpop: paramore aposenta misery busines...            0.0   \n",
       "..                                                 ...            ...   \n",
       "669  concentre-se e defina a partida! a maioria dos...            2.0   \n",
       "670  rt @steinert_carol: ☄vocês querem sorteio de l...            0.0   \n",
       "671  riot lançando skin da sona quando eu não tenho...            2.0   \n",
       "672  @moondded eu exijo que a riot me de a skin do ...            2.0   \n",
       "673  parabens pelos efeitos mas vc cagaram na skin ...            1.0   \n",
       "674  rt @steinert_carol: ☄vocês querem sorteio de l...            0.0   \n",
       "675  mano eu n sei nem o que falar \\n\\nquer meu din...            2.0   \n",
       "676  @yetz1 a riot só estava te crucificando pra ma...            0.0   \n",
       "677  riot games consegue ter um atendimento agradáv...            2.0   \n",
       "678       porra, finalmente a riot fez algo empolgante            2.0   \n",
       "679  rt @pedrolapera: não quero perder por nada ess...            0.0   \n",
       "680       obg riot pelos mimos https://t.co/fzefecdt2z            2.0   \n",
       "681  papo reto demais, é mto bullshit não ter trans...            1.0   \n",
       "682  @steinert_carol @riot_entbr @daydreamstorebr @...            0.0   \n",
       "683               @kokinya_9 dibujame como quieras uou            0.0   \n",
       "684  rt @fodasemeuamigo: ser sensivel so eh bonito ...            0.0   \n",
       "685  @baianolol1 a riot ta no spec mano iuwhgeiuwhgiuh            2.0   \n",
       "686  rt @lolegendsbr: concentre-se e defina a parti...            2.0   \n",
       "687  rt @lolesportsbr: \"senhor do meu destino mano,...            0.0   \n",
       "688  rt @lolesportsbr: \"senhor do meu destino mano,...            0.0   \n",
       "689  rt @lolesportsbr: \"senhor do meu destino mano,...            0.0   \n",
       "690             riot fazendo mais uma skin pro yasuo 💤            2.0   \n",
       "691  koer\\nnesse novo evento da riot...oq q a dona ...            2.0   \n",
       "692  rt @_ccabeyo: mano, eu juro q se o pete tiver ...            0.0   \n",
       "693  a @kabumesports  é tricampeã no #cblol! que vi...            2.0   \n",
       "694  ódio a riot é mt debochada pqp https://t.co/xo...            1.0   \n",
       "695  rt @leodiprado: se tiver chuva de \"transmite r...            2.0   \n",
       "696          ainda bem que a riot inventou o graves jg            2.0   \n",
       "697  rt @galfilol: gente nem a riot nem a keyd paga...            2.0   \n",
       "698  rt @aguinaldinho: sandy foi questionada sobre ...            0.0   \n",
       "\n",
       "             Legenda  Resultado  \n",
       "0    0 - IRRELEVANTE          0  \n",
       "1           1 - RUIM          0  \n",
       "2            2 - BOM          0  \n",
       "3                NaN          1  \n",
       "4                NaN          0  \n",
       "5                NaN          1  \n",
       "6                NaN          0  \n",
       "7                NaN          2  \n",
       "8                NaN          0  \n",
       "9                NaN          1  \n",
       "10               NaN          1  \n",
       "11               NaN          0  \n",
       "12               NaN          0  \n",
       "13               NaN          0  \n",
       "14               NaN          2  \n",
       "15               NaN          0  \n",
       "16               NaN          0  \n",
       "17               NaN          1  \n",
       "18               NaN          2  \n",
       "19               NaN          2  \n",
       "20               NaN          0  \n",
       "21               NaN          0  \n",
       "22               NaN          0  \n",
       "23               NaN          0  \n",
       "24               NaN          0  \n",
       "25               NaN          2  \n",
       "26               NaN          1  \n",
       "27               NaN          0  \n",
       "28               NaN          2  \n",
       "29               NaN          0  \n",
       "..               ...        ...  \n",
       "669              NaN          0  \n",
       "670              NaN          0  \n",
       "671              NaN          1  \n",
       "672              NaN          1  \n",
       "673              NaN          0  \n",
       "674              NaN          0  \n",
       "675              NaN          1  \n",
       "676              NaN          1  \n",
       "677              NaN          1  \n",
       "678              NaN          1  \n",
       "679              NaN          1  \n",
       "680              NaN          1  \n",
       "681              NaN          1  \n",
       "682              NaN          2  \n",
       "683              NaN          2  \n",
       "684              NaN          0  \n",
       "685              NaN          2  \n",
       "686              NaN          0  \n",
       "687              NaN          0  \n",
       "688              NaN          0  \n",
       "689              NaN          0  \n",
       "690              NaN          1  \n",
       "691              NaN          0  \n",
       "692              NaN          0  \n",
       "693              NaN          0  \n",
       "694              NaN          1  \n",
       "695              NaN          0  \n",
       "696              NaN          2  \n",
       "697              NaN          0  \n",
       "698              NaN          0  \n",
       "\n",
       "[699 rows x 4 columns]"
      ]
     },
     "execution_count": 25,
     "metadata": {},
     "output_type": "execute_result"
    }
   ],
   "source": [
    "dfTeste"
   ]
  },
  {
   "cell_type": "markdown",
   "metadata": {},
   "source": [
    "___\n",
    "## Concluindo\n",
    "\n",
    "Escreva aqui a sua conclusão.<br /> \n",
    "Faça um comparativo qualitativo sobre as medidas obtidas.<br />\n",
    "Explique como são tratadas as mensagens com dupla negação e sarcasmo.<br />\n",
    "Proponha um plano de expansão. Por que eles devem continuar financiando o seu projeto?<br />\n",
    "\n",
    "Opcionalmente: \n",
    "* Discorrer por que não posso alimentar minha base de Treinamento automaticamente usando o próprio classificador, aplicado a novos tweets.\n",
    "* Propor diferentes cenários de uso para o classificador Naive-Bayes. Cenários sem intersecção com este projeto.\n",
    "* Sugerir e explicar melhorias reais no classificador com indicações concretas de como implementar (não é preciso codificar, mas indicar como fazer e material de pesquisa sobre o assunto).\n"
   ]
  },
  {
   "cell_type": "code",
   "execution_count": null,
   "metadata": {
    "collapsed": true
   },
   "outputs": [],
   "source": []
  }
 ],
 "metadata": {
  "kernelspec": {
   "display_name": "Python 3",
   "language": "python",
   "name": "python3"
  },
  "language_info": {
   "codemirror_mode": {
    "name": "ipython",
    "version": 3
   },
   "file_extension": ".py",
   "mimetype": "text/x-python",
   "name": "python",
   "nbconvert_exporter": "python",
   "pygments_lexer": "ipython3",
   "version": "3.6.0"
  }
 },
 "nbformat": 4,
 "nbformat_minor": 2
}
